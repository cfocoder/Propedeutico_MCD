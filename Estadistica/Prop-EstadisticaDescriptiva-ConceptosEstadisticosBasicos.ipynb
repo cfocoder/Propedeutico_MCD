{
 "cells": [
  {
   "cell_type": "markdown",
   "metadata": {},
   "source": [
    "<center> <span style=\"color:indigo\">Propedéutico de la Maestría en Ciencia de Datos, CUCEA, UdG.</span> </center> \n",
    "\n",
    "<div style=\"text-align: center;\">\n",
    "<img src=\"../Imagenes/MCD.jpg\" alt=\"Drawing\" style=\"width: 800px;\"/>\n",
    "</div>\n",
    "\n",
    "<center> <span style=\"color:DarkBlue\">  Conceptos Estadísticos Básicos </span>  </center>\n",
    "<center> <span style=\"color:Blue\"> M. en C. Iván A. Toledano Juárez </span>  </center>"
   ]
  },
  {
   "cell_type": "markdown",
   "metadata": {},
   "source": [
    "## Importación de librerías"
   ]
  },
  {
   "cell_type": "code",
   "execution_count": 1,
   "metadata": {},
   "outputs": [],
   "source": [
    "# Importa la librería NumPy, esencial para cálculos numéricos y operaciones con arreglos.\n",
    "import numpy as np\n",
    "np.random.seed(42) # semilla aleatoria \n",
    "\n",
    "# Importa la librería Matplotlib para visualización de datos; 'pyplot' se usa para generar gráficos básicos.\n",
    "import matplotlib.pyplot as plt\n",
    "\n",
    "# Importa seaborn, una librería de visualización basada en matplotlib, con gráficos estadísticos de alto nivel.\n",
    "import seaborn as sns\n",
    "\n",
    "# Importa 'Image' de IPython para mostrar imágenes en notebooks, útil para insertar visuales externos.\n",
    "from IPython.display import Image\n",
    "\n",
    "# Importa el módulo 'os', que permite interactuar con el sistema operativo (por ejemplo, acceder a archivos y rutas).\n",
    "import os\n",
    "\n",
    "# Importa el módulo de estadísticas de SciPy, que proporciona funciones avanzadas como moda, pruebas de hipótesis y distribuciones.\n",
    "from scipy import stats\n",
    "\n",
    "# Comando mágico de Jupyter que permite que las gráficas de matplotlib se muestren directamente dentro del notebook.\n",
    "%matplotlib inline"
   ]
  },
  {
   "cell_type": "markdown",
   "metadata": {},
   "source": [
    "## Medidas de Tendencia Central\n",
    "\n",
    "Las **medidas de tendencia central** nos permiten identificar el punto alrededor del cual se agrupan los datos en una distribución. Son fundamentales para resumir un conjunto de datos mediante un solo valor representativo.\n",
    "\n",
    "A continuación se presentan las tres medidas más comunes:\n",
    "\n",
    "- **Media aritmética**: Es el promedio de todos los valores y se calcula como:\n",
    "\n",
    "\\begin{equation}\n",
    "\\bar{x} = \\frac{1}{n} \\sum_{i=1}^{n} x_i\n",
    "\\end{equation}\n",
    "\n",
    "  donde $x_i$ representa cada valor del conjunto de datos y $n$ es el número total de observaciones.\n",
    "\n",
    "- **Mediana**: Es el valor que divide a la muestra en dos partes iguales, es decir, el 50% de los datos son menores o iguales a la mediana y el 50% son mayores o iguales. Es especialmente útil cuando existen valores atípicos.\n",
    "\n",
    "- **Moda**: Es el valor que más veces se repite en el conjunto de datos. Puede no existir o haber más de una.\n",
    "\n",
    "---\n",
    "\n",
    "## Medidas de Dispersión\n",
    "\n",
    "Las **medidas de dispersión** nos indican qué tan dispersos, separados o concentrados están los datos con respecto a una medida de tendencia central (usualmente la media). Complementan la información brindada por la media, mediana o moda, permitiendo entender la **variabilidad** dentro de un conjunto de datos.\n",
    "\n",
    "Una baja dispersión sugiere que los valores están cercanos al centro; una alta dispersión indica que los datos están más separados entre sí. Las principales medidas de dispersión son las siguientes:\n",
    "\n",
    "- **Rango (amplitud total)**\n",
    "\n",
    "Es la diferencia entre el valor máximo y el valor mínimo de un conjunto de datos:\n",
    "\n",
    "\\begin{equation}\n",
    "\\text{Rango} = x_{\\text{máx}} - x_{\\text{mín}}\n",
    "\\end{equation}\n",
    "\n",
    "Es una medida muy sencilla, pero sensible a valores atípicos.\n",
    "\n",
    "- **Varianza $\\sigma^2$**\n",
    "\n",
    "La varianza mide el promedio de las desviaciones al cuadrado con respecto a la media:\n",
    "\n",
    "\\begin{equation}\n",
    "\\sigma^2 = \\frac{1}{n} \\sum_{i=1}^{n} (x_i - \\bar{x})^2\n",
    "\\end{equation}\n",
    "\n",
    "En el caso de una muestra, usamos el denominador \\( n - 1 \\) (varianza muestral):\n",
    "\n",
    "\\begin{equation}\n",
    "s^2 = \\frac{1}{n - 1} \\sum_{i=1}^{n} (x_i - \\bar{x})^2\n",
    "\\end{equation}\n",
    "\n",
    "- **Desviación estándar $\\sigma$**\n",
    "\n",
    "Es la raíz cuadrada de la varianza, y se expresa en las mismas unidades que los datos originales:\n",
    "\n",
    "\\begin{equation}\n",
    "\\sigma = \\sqrt{\\frac{1}{n} \\sum_{i=1}^{n} (x_i - \\bar{x})^2}\n",
    "\\end{equation}\n",
    "\n",
    "- **Rango intercuartil (IQR)**\n",
    "\n",
    "Mide la dispersión del 50% central de los datos:\n",
    "\n",
    "\\begin{equation}\n",
    "\\text{IQR} = Q_3 - Q_1\n",
    "\\end{equation}\n",
    "\n",
    "donde $Q_1$ y $Q_3$ son el primer y tercer cuartil, respectivamente. Es útil porque **no se ve afectado por valores extremos**.\n",
    "\n",
    "Estas medidas son fundamentales en el análisis exploratorio de datos, ya que permiten identificar la variabilidad, detectar valores atípicos y comparar distintas distribuciones.\n",
    "\n",
    "---\n",
    "\n",
    "### Uso de distribuciones para ejemplificar\n",
    "\n",
    "La paquetería `NumPy` nos permite generar arreglos numéricos (arrays) basados en distintas **distribuciones de probabilidad** (normal, uniforme, binomial, etc.). Estas distribuciones sirven como referencia para ilustrar y comparar diferentes medidas de tendencia central y de dispersión.\n",
    "\n",
    "Por ejemplo, una distribución normal con media $\\mu$ y desviación estándar $\\sigma$ tiene una forma simétrica, donde:\n",
    "\n",
    "- La media, mediana y moda coinciden: $\\mu = \\text{mediana} = \\text{moda}$\n",
    "- Se puede representar como:\n",
    "\n",
    "\\begin{equation}  \n",
    "X \\sim \\mathcal{N}(\\mu, \\sigma^2)\n",
    "\\end{equation}\n",
    "\n",
    "Para ejemplificar esto, generamos una muestra sintética de números a partir de algunas distribuciones de probabilidad conocidas para calcular sus medidas de tendencia central.\n",
    "\n",
    "#### Distribución Uniforme\n",
    "\n",
    "La **distribución uniforme continua** es una distribución de probabilidad donde todos los valores dentro de un intervalo definido tienen la **misma probabilidad** de ocurrencia. Es uno de los modelos más simples y fundamentales en estadística y simulación.\n",
    "\n",
    "Una variable aleatoria continua $x$ sigue una distribución uniforme en el intervalo $[a, b]$, denotada como:\n",
    "\n",
    "\\begin{equation}\n",
    "x \\sim \\mathcal{U}(a, b)\n",
    "\\end{equation}\n",
    "\n",
    "Su función de densidad de probabilidad (PDF) es:\n",
    "\n",
    "$$\n",
    "f(x) =\n",
    "\\begin{cases}\n",
    "\\frac{1}{b - a}, & \\text{si } a \\leq x \\leq b \\\\\n",
    "0, & \\text{en otro caso}\n",
    "\\end{cases}\n",
    "$$\n",
    "\n",
    "#### Propiedades\n",
    "\n",
    "- **Media**:  \n",
    "  $$\n",
    "  \\mu = \\frac{a + b}{2}\n",
    "  $$\n",
    "\n",
    "- **Varianza**:  \n",
    "  $$\n",
    "  \\sigma^2 = \\frac{(b - a)^2}{12}\n",
    "  $$"
   ]
  },
  {
   "cell_type": "code",
   "execution_count": 2,
   "metadata": {},
   "outputs": [
    {
     "data": {
      "text/plain": [
       "array([374.54011885, 950.71430641, 731.99394181, ..., 946.70791503,\n",
       "       397.48799242, 217.14040404])"
      ]
     },
     "execution_count": 2,
     "metadata": {},
     "output_type": "execute_result"
    }
   ],
   "source": [
    "# Distribucion uniforme\n",
    "uniform_array = np.random.uniform(0.,1000.,10000)\n",
    "uniform_array # la variable de salida es un array de numpy "
   ]
  },
  {
   "cell_type": "markdown",
   "metadata": {},
   "source": [
    "La librería `matplotlib` es una de las herramientas más utilizadas en Python para la visualización de datos. Su módulo `pyplot` proporciona una interfaz para crear gráficos de forma sencilla y controlada.\n",
    "\n",
    "Al importar `matplotlib.pyplot` como `plt`, accedemos a funciones que permiten:\n",
    "\n",
    "- Crear gráficos de líneas, barras, dispersión, histogramas, entre otros.\n",
    "- Personalizar títulos, ejes, leyendas y estilos.\n",
    "- Controlar la visualización de figuras y subgráficos.\n",
    "\n",
    "Con matplotlib podemos hacer gráficos simples para visualizar los datos. En este caso, un histograma es útil para ver la distribución de los números aleatorios que se generaron."
   ]
  },
  {
   "cell_type": "code",
   "execution_count": 3,
   "metadata": {},
   "outputs": [
    {
     "data": {
      "image/png": "[encoded data removed]",
      "text/plain": [
       "<Figure size 640x480 with 1 Axes>"
      ]
     },
     "metadata": {},
     "output_type": "display_data"
    }
   ],
   "source": [
    "plt.hist(uniform_array)\n",
    "plt.xlabel('x')\n",
    "plt.ylabel('Frecuencia')\n",
    "plt.title('Distribución uniforme generada aleatoriamente')\n",
    "plt.show()"
   ]
  },
  {
   "cell_type": "markdown",
   "metadata": {},
   "source": [
    "Vemos que los números fueron efectivamente generados de manera aleatoria de manera uniforme. Tenemos una proporción más o menos constante para todos los intervalos. Podemos ver otros ejemplos,\n",
    "\n",
    "#### Distribución Binomial\n",
    "\n",
    "La **distribución binomial** modela el número de éxitos en $n$ ensayos independientes, donde cada ensayo tiene solo dos posibles resultados: **éxito** (con probabilidad $p$) o **fracaso** (con probabilidad $1 - p$).\n",
    "\n",
    "Se utiliza, por ejemplo, para modelar:\n",
    "\n",
    "- Lanzamientos de una moneda.\n",
    "- Resultados de encuestas con respuestas \"sí/no\".\n",
    "- Defectos en una línea de producción.\n",
    "\n",
    "Se denota como:\n",
    "\n",
    "\\begin{equation}\n",
    "X \\sim \\text{Bin}(n, p)\n",
    "\\end{equation}\n",
    "\n",
    "donde:\n",
    "- $n$: número de ensayos (experimentos).\n",
    "- $p$: probabilidad de éxito en un solo ensayo.\n",
    "- $x$: variable aleatoria que representa el número de éxitos.\n",
    "\n",
    "\n",
    "#### Función de probabilidad (PMF)\n",
    "\n",
    "La función de masa de probabilidad (PMF, por sus siglas en inglés) de la distribución binomial es:\n",
    "\n",
    "\\begin{equation}\n",
    "P(X = k) = \\binom{n}{k} p^k (1 - p)^{n - k}\n",
    "\\end{equation}\n",
    "\n",
    "donde:\n",
    "- $\\binom{n}{k}$ es llamado el coeficiente binomial (combinaciones),\n",
    "- $k$: número de éxitos deseado.\n",
    "\n",
    "\n",
    "#### Propiedades\n",
    "\n",
    "- **Media**:\n",
    "  \\begin{equation}\n",
    "  \\mu = n \\cdot p\n",
    "  \\end{equation}\n",
    "\n",
    "- **Varianza**:\n",
    "  \\begin{equation}\n",
    "  \\sigma^2 = n \\cdot p \\cdot (1 - p)\n",
    "  \\end{equation}\n",
    "\n",
    "- **Desviación estándar**:\n",
    "  \\begin{equation}\n",
    "  \\sigma = \\sqrt{n \\cdot p \\cdot (1 - p)}\n",
    "  \\end{equation}"
   ]
  },
  {
   "cell_type": "code",
   "execution_count": 4,
   "metadata": {},
   "outputs": [
    {
     "data": {
      "text/plain": [
       "array([7, 6, 5, ..., 8, 3, 4])"
      ]
     },
     "execution_count": 4,
     "metadata": {},
     "output_type": "execute_result"
    }
   ],
   "source": [
    "binomial_array = np.random.binomial(n=30,\n",
    "                              p=0.25,\n",
    "                              size=100000)\n",
    "binomial_array"
   ]
  },
  {
   "cell_type": "code",
   "execution_count": 5,
   "metadata": {},
   "outputs": [
    {
     "data": {
      "image/png": "[encoded data removed]",
      "text/plain": [
       "<Figure size 640x480 with 1 Axes>"
      ]
     },
     "metadata": {},
     "output_type": "display_data"
    }
   ],
   "source": [
    "plt.hist(binomial_array)\n",
    "plt.xlim(0,30)\n",
    "plt.xlabel('x')\n",
    "plt.ylabel('Frecuencia')\n",
    "plt.title('Distribución binomial generada aleatoriamente')\n",
    "plt.show()"
   ]
  },
  {
   "cell_type": "markdown",
   "metadata": {},
   "source": [
    "Además de `matplotlib`, también podemos utilizar la librería `seaborn` para crear gráficos estadísticos más estilizados y fáciles de interpretar.\n",
    "\n",
    "Seaborn está construida sobre `matplotlib`, y ofrece una interfaz más sencilla para generar gráficos comunes en el análisis de datos, como distribuciones, correlaciones y diagramas de cajas."
   ]
  },
  {
   "cell_type": "code",
   "execution_count": 6,
   "metadata": {},
   "outputs": [
    {
     "data": {
      "image/png": "[encoded data removed]",
      "text/plain": [
       "<Figure size 640x480 with 1 Axes>"
      ]
     },
     "metadata": {},
     "output_type": "display_data"
    }
   ],
   "source": [
    "ax = sns.histplot(binomial_array)\n",
    "\n",
    "ax.set(xlabel='x', ylabel='frecuencia')\n",
    "plt.xlim(0,30)\n",
    "plt.show()"
   ]
  },
  {
   "cell_type": "markdown",
   "metadata": {},
   "source": [
    "#### Distribución normal\n",
    "\n",
    "La **distribución normal** o **distribución gaussiana** es una de las distribuciones más importantes en estadística y ciencia de datos. Modela fenómenos naturales, sociales y físicos donde los datos tienden a agruparse alrededor de un valor central.\n",
    "\n",
    "Su forma es simétrica y de campana, y se caracteriza por dos parámetros:\n",
    "\n",
    "- $\\mu$: la media (centro de la distribución)\n",
    "- $\\sigma$: la desviación estándar (ancho de la campana)\n",
    "\n",
    "Se representa por:\n",
    "\n",
    "\\begin{equation}\n",
    "X \\sim \\mathcal{N}(\\mu, \\sigma^2)\n",
    "\\end{equation}\n",
    "\n",
    "donde $\\sigma^2$ es la varianza.\n",
    "\n",
    "#### Función de densidad de probabilidad (PDF)\n",
    "\n",
    "\\begin{equation}\n",
    "f(x) = \\frac{1}{\\sigma \\sqrt{2\\pi}} \\, \\exp\\left( -\\frac{(x - \\mu)^2}{2\\sigma^2} \\right)\n",
    "\\end{equation}\n",
    "\n",
    "### Propiedades\n",
    "\n",
    "- La curva es **simétrica** alrededor de $\\mu$.\n",
    "- Regla empírica (68-95-99):\n",
    "  - 68% de los datos se encuentran entre \\( \\mu \\pm \\sigma \\)\n",
    "  - 95% entre \\( \\mu \\pm 2\\sigma \\)\n",
    "  - 99.7% entre \\( \\mu \\pm 3\\sigma \\) (regla empírica o \"regla 68-95-99.7\")\n",
    "- Es la base de muchos métodos estadísticos, como pruebas de hipótesis e intervalos de confianza.\n",
    "\n",
    "Como ejemplo, generamos una distribución gaussiana estándar, con media $\\mu = 0$ y desviación estándar de $\\sigma = 1$."
   ]
  },
  {
   "cell_type": "code",
   "execution_count": 7,
   "metadata": {},
   "outputs": [
    {
     "data": {
      "image/png": "[encoded data removed]",
      "text/plain": [
       "<Figure size 640x480 with 1 Axes>"
      ]
     },
     "metadata": {},
     "output_type": "display_data"
    }
   ],
   "source": [
    "gaussian_array = np.random.normal(0,1,1000)  # argumentos son media, desviacion estandar, y numero de valores generados.\n",
    "ax = sns.histplot(gaussian_array, bins=20)\n",
    "\n",
    "ax.set(xlabel='x', ylabel='frecuencia', title='Distribución Normal')\n",
    "\n",
    "plt.show()"
   ]
  },
  {
   "cell_type": "markdown",
   "metadata": {},
   "source": [
    "## Medidas de Tendencia Central con NumPy\n",
    "\n",
    "Las **medidas de tendencia central** (media, mediana y moda) nos ayudan a identificar el valor en torno al cual se distribuyen los datos. Son fundamentales para hacer una primera descripción de cualquier conjunto de datos.\n",
    "\n",
    "### ¿Por qué utilizar NumPy?\n",
    "\n",
    "`NumPy` es una librería fundamental en el ecosistema de Python para el análisis numérico. Permite trabajar con arreglos multidimensionales (`ndarray`) de manera eficiente, tanto en términos de velocidad como de uso de memoria.\n",
    "\n",
    "Usar `NumPy` para calcular estadísticas como la media o la mediana tiene varias ventajas:\n",
    "\n",
    "- **Velocidad**: Está implementado en C, lo que lo hace mucho más rápido que usar bucles `for` de Python puro.\n",
    "- **Simplicidad**: Proporciona funciones directas como `np.mean()`, `np.median()` y `np.std()`.\n",
    "- **Compatibilidad**: Es la base de muchas otras librerías como `pandas`, `scikit-learn`, `seaborn`, etc.\n",
    "\n",
    "### Funciones clave de tendencia central en NumPy\n",
    "\n",
    "- `np.mean()`: Calcula la **media aritmética**.\n",
    "- `np.median()`: Calcula la **mediana**.\n",
    "- `np.percentile()`: Permite obtener **cuartiles** y otros percentiles.\n",
    "- `np.average()`: Similar a `mean()`, pero permite **ponderar** los valores si se desea.\n",
    "- `np.bincount()` + `np.argmax()`: Se puede usar para encontrar la **moda** en datos discretos (aunque no es tan directo).\n",
    "\n",
    "> **NOTA:** NumPy no tiene una función específica para calcular la **moda**. Para ello, se recomienda usar `scipy.stats.mode()` o `pandas.Series.mode()` si se trabaja con estructuras más complejas.\n",
    "\n",
    "---\n",
    "\n",
    "### Alternativas\n",
    "\n",
    "- **`pandas`**: Si los datos se encuentran en una estructura tipo tabla (como `DataFrame`), se puede usar `.mean()`, `.median()`, `.mode()`, entre otras. Es más flexible con datos faltantes (`NaN`) y columnas categóricas.\n",
    "- **`scipy.stats`**: Ofrece funciones estadísticas más avanzadas, incluyendo `mode()`, `skew()`, `kurtosis()`, etc.\n",
    "\n",
    "Por ejemplo, podemos utilizar `numpy`para calcular las medidas de tendencia central de la distribución normal generada de manera aleatoria.\n"
   ]
  },
  {
   "cell_type": "code",
   "execution_count": 8,
   "metadata": {},
   "outputs": [
    {
     "name": "stdout",
     "output_type": "stream",
     "text": [
      "media:  0.03654810325590949\n"
     ]
    }
   ],
   "source": [
    "# Cálculo de media\n",
    "mean = np.mean(gaussian_array)\n",
    "print('media: ', mean)"
   ]
  },
  {
   "cell_type": "code",
   "execution_count": 9,
   "metadata": {},
   "outputs": [
    {
     "name": "stdout",
     "output_type": "stream",
     "text": [
      "mediana:  0.04878327037631283\n"
     ]
    }
   ],
   "source": [
    "# Cálculo de mediana\n",
    "median = np.median(gaussian_array)\n",
    "print('mediana: ', median)"
   ]
  },
  {
   "cell_type": "markdown",
   "metadata": {},
   "source": [
    "Para poder aplicar la moda sobre los números reales del array, es útil primero convertirlos a enteros. O utilizar las categorías o intervalos de un histograma para definirla."
   ]
  },
  {
   "cell_type": "code",
   "execution_count": 10,
   "metadata": {},
   "outputs": [
    {
     "name": "stdout",
     "output_type": "stream",
     "text": [
      "moda:  ModeResult(mode=np.int64(0), count=np.int64(687))\n"
     ]
    }
   ],
   "source": [
    "gaussian_array_int = gaussian_array.astype(int) # pasar a un array de solo números enteros\n",
    "\n",
    "# Calculo de moda\n",
    "mode = stats.mode(gaussian_array_int, keepdims=False)\n",
    "print(\"moda: \", mode)"
   ]
  },
  {
   "cell_type": "markdown",
   "metadata": {},
   "source": [
    "Como observamos, la media, mediana y moda de los datos generados de manera aleatoria con `numpy.random` tienen una media cercana a cero en todos los casos, consistente con los parámetros con los que fueron generados."
   ]
  },
  {
   "cell_type": "code",
   "execution_count": 11,
   "metadata": {},
   "outputs": [
    {
     "name": "stdout",
     "output_type": "stream",
     "text": [
      "Cuartil Q1 =  -0.6314461237703627\n",
      "Cuartil Q2 =  0.04878327037631283\n",
      "Cuartil Q3 =  0.7340900578656548\n"
     ]
    }
   ],
   "source": [
    "# Cálculo de percentiles\n",
    "\n",
    "percentil = np.percentile(gaussian_array,25) # Percentil 25\n",
    "print('Cuartil Q1 = ', percentil)\n",
    "percentil = np.percentile(gaussian_array,50) # Percentil 50 (Mediana)\n",
    "print('Cuartil Q2 = ', percentil)\n",
    "percentil = np.percentile(gaussian_array,75) # Percentil 75\n",
    "print('Cuartil Q3 = ', percentil)"
   ]
  },
  {
   "cell_type": "markdown",
   "metadata": {},
   "source": [
    "## Medidas de Dispersión con NumPy\n",
    "\n",
    "Al igual que con las medidas de tendencia central, `NumPy` nos ofrece funciones simples y eficientes para calcular las principales medidas de dispersión.\n",
    "\n",
    "\n",
    "### Principales funciones de NumPy para dispersión\n",
    "\n",
    "- `np.std()`: Calcula la **desviación estándar**.\n",
    "- `np.var()`: Calcula la **varianza**.\n",
    "- `np.ptp()`: Calcula el **rango total** (máximo - mínimo).\n",
    "- `np.percentile()`: Calcula cualquier percentil.\n",
    "- `np.quantile()`: Equivalente a `percentile()` pero con proporciones (entre 0 y 1).\n",
    "\n",
    "> **NOTA:** Por defecto, `np.std()` y `np.var()` utilizan el denominador $n$, es decir, asumen que trabajas con toda la población. Para obtener los estadísticos de una mestra (dividiendo entre $n-1$), usa el parámetro `ddof=1`.\n"
   ]
  },
  {
   "cell_type": "code",
   "execution_count": 12,
   "metadata": {},
   "outputs": [
    {
     "name": "stdout",
     "output_type": "stream",
     "text": [
      "varianza = 1.0127140618437258\n"
     ]
    }
   ],
   "source": [
    "# Cálculo de varianza\n",
    "var = np.var(gaussian_array) \n",
    "### por default la de considera una poblacion (ddof = 0)\n",
    "### Si se quiere calcular la varianza de una muestra se debe de utilizar (ddof = 1)\n",
    "print('varianza =',var)"
   ]
  },
  {
   "cell_type": "code",
   "execution_count": 13,
   "metadata": {},
   "outputs": [
    {
     "name": "stdout",
     "output_type": "stream",
     "text": [
      "desviacion estandar = 1.0063369524387573\n"
     ]
    }
   ],
   "source": [
    "# Cálculo de desviación estándar\n",
    "std = np.std(gaussian_array)\n",
    "print('desviacion estandar =',std)"
   ]
  },
  {
   "cell_type": "markdown",
   "metadata": {},
   "source": [
    "#### Coeficiente de variación\n",
    "\n",
    "El **coeficiente de variación** está dado por $\\frac{\\sigma}{\\mu} \\times 100$. Si hay mucha variabilidad será más grande el coeficiente."
   ]
  },
  {
   "cell_type": "code",
   "execution_count": 14,
   "metadata": {},
   "outputs": [
    {
     "data": {
      "text/plain": [
       "np.float64(2753.4587647200046)"
      ]
     },
     "execution_count": 14,
     "metadata": {},
     "output_type": "execute_result"
    }
   ],
   "source": [
    "# Coeficiente de variación\n",
    "CV = (std / mean) * 100\n",
    "CV"
   ]
  },
  {
   "cell_type": "markdown",
   "metadata": {},
   "source": [
    "## Medidas de Asimetría, Curtosis y Momentos Estadísticos\n",
    "\n",
    "Además de las medidas de tendencia central y dispersión, existen **medidas que describen la forma de la distribución** de los datos. Estas se basan en los **momentos estadísticos**, que son valores que resumen distintas propiedades de una distribución.\n",
    "\n",
    "Los **momentos estadísticos** son medidas que capturan características específicas de una distribución de probabilidad. En particular:\n",
    "\n",
    "- El **1er momento** es la **media**.\n",
    "- El **2do momento central** es la **varianza**.\n",
    "- El **3er momento central** describe la **asimetría**.\n",
    "- El **4to momento central** describe la **curtosis**.\n",
    "\n",
    "El momento central de orden $r$ se define como:\n",
    "\n",
    "\\begin{equation}\n",
    "\\mu_r = \\frac{1}{n} \\sum_{i=1}^n (x_i - \\bar{x})^r\n",
    "\\end{equation}\n",
    "\n",
    "---\n",
    "\n",
    "## Asimetría (Skewness)\n",
    "\n",
    "La **asimetría** indica el grado de **simetría o sesgo** de una distribución respecto a su media. Se basa en el **tercer momento central normalizado**:\n",
    "\n",
    "\\begin{equation}\n",
    "\\text{Asimetría de Fisher} = \\gamma_1 = \\frac{\\mu_3}{\\sigma^3} = \\frac{1}{n} \\sum_{i=1}^n \\left( \\frac{x_i - \\bar{x}}{\\sigma} \\right)^3\n",
    "\\end{equation}\n",
    "\n",
    "- Si $\\gamma_1 = 0$, la distribución es **simétrica**.\n",
    "- Si $\\gamma_1 > 0$), la distribución tiene **asimetría positiva** (cola hacia la derecha).\n",
    "- Si $\\gamma_1 < 0$), la distribución tiene **asimetría negativa** (cola hacia la izquierda).\n",
    "\n",
    "Esta medida también se conoce como el **coeficiente de asimetría de Fisher**. Se puede revisar la documentación en el siguiente [**link**](https://docs.scipy.org/doc/scipy/reference/generated/scipy.stats.skew.html).\n",
    "\n",
    "<div style=\"text-align: center;\">\n",
    "<img src=\"../Imagenes/skewness.jpg\" alt=\"Drawing\" style=\"width: 800px;\"/>\n",
    "</div>\n",
    "\n",
    "## Curtosis (Kurtosis)\n",
    "\n",
    "La **curtosis** mide la **concentración de datos alrededor de la media** y la presencia de colas extremas. Se basa en el **cuarto momento central normalizado**:\n",
    "\n",
    "\\begin{equation}\n",
    "\\text{Curtosis total} = \\gamma_2 = \\frac{\\mu_4}{\\sigma^4}\n",
    "\\end{equation}\n",
    "\n",
    "Para fines comparativos, se suele utilizar el **coeficiente de curtosis centrada** o **exceso de curtosis** (comparado con la distribución normal):\n",
    "\n",
    "\\begin{equation}\n",
    "\\text{Curtosis centrada (exceso)} = \\gamma_2 - 3\n",
    "\\end{equation}\n",
    "\n",
    "Interpretación:\n",
    "\n",
    "- $\\gamma_2 - 3 = 0$: distribución **mesocúrtica** (como la normal).\n",
    "- $\\gamma_2 - 3 > 0$: distribución **leptocúrtica** (pico alto y colas pesadas).\n",
    "- $\\gamma_2 - 3 < 0$: distribución **platicúrtica** (pico más plano y colas ligeras).\n",
    "\n",
    "<div style=\"text-align: center;\">\n",
    "<img src=\"../Imagenes/kurtosis.png\" alt=\"Drawing\" style=\"width: 800px;\"/>\n",
    "</div>"
   ]
  },
  {
   "cell_type": "code",
   "execution_count": 15,
   "metadata": {},
   "outputs": [
    {
     "data": {
      "text/plain": [
       "np.float64(0.0010143355752083192)"
      ]
     },
     "execution_count": 15,
     "metadata": {},
     "output_type": "execute_result"
    }
   ],
   "source": [
    "# tercer momento : Asimetría de Fisher\n",
    "Asimetria = stats.skew(gaussian_array)\n",
    "Asimetria"
   ]
  },
  {
   "cell_type": "code",
   "execution_count": 16,
   "metadata": {},
   "outputs": [
    {
     "data": {
      "text/plain": [
       "np.float64(0.07520247616807696)"
      ]
     },
     "execution_count": 16,
     "metadata": {},
     "output_type": "execute_result"
    }
   ],
   "source": [
    "# Curtosis, cuarto momento\n",
    "curtosis = stats.kurtosis(gaussian_array)\n",
    "curtosis"
   ]
  }
 ],
 "metadata": {
  "kernelspec": {
   "display_name": "Python 3 (ipykernel)",
   "language": "python",
   "name": "python3"
  },
  "language_info": {
   "codemirror_mode": {
    "name": "ipython",
    "version": 3
   },
   "file_extension": ".py",
   "mimetype": "text/x-python",
   "name": "python",
   "nbconvert_exporter": "python",
   "pygments_lexer": "ipython3",
   "version": "3.10.16"
  }
 },
 "nbformat": 4,
 "nbformat_minor": 4
}
