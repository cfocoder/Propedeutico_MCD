{
 "cells": [
  {
   "cell_type": "markdown",
   "metadata": {},
   "source": [
    "<center> <span style=\"color:indigo\">Métodos Estadísticos Básicos</span> </center> \n",
    "\n",
    "<div style=\"text-align: center;\">\n",
    "<img src=\"../Imagenes/MCD.jpg\" alt=\"Drawing\" style=\"width: 800px;\"/>\n",
    "</div>\n",
    "\n",
    "<center> <span style=\"color:DarkBlue\">  Unidad 2. Probabilidad </span>  </center>\n",
    "<center> <span style=\"color:Blue\"> M. en C. Iván A. Toledano Juárez </span>  </center>"
   ]
  },
  {
   "cell_type": "code",
   "execution_count": 1,
   "metadata": {},
   "outputs": [],
   "source": [
    "import pandas as pd\n",
    "import numpy as np\n",
    "import matplotlib.pyplot as plt\n",
    "import os\n",
    "from scipy import stats\n",
    "import seaborn as sns\n",
    "\n",
    "%matplotlib inline"
   ]
  },
  {
   "cell_type": "markdown",
   "metadata": {},
   "source": [
    "### Ejercicio: Tirada de moneda"
   ]
  },
  {
   "cell_type": "code",
   "execution_count": 2,
   "metadata": {},
   "outputs": [
    {
     "data": {
      "text/plain": [
       "['Sello', 'Aguila']"
      ]
     },
     "execution_count": 2,
     "metadata": {},
     "output_type": "execute_result"
    }
   ],
   "source": [
    "# Creamos nuestra lista (o espacio muestral)\n",
    "\n",
    "R_Moneda = ['Sello','Aguila']\n",
    "R_Moneda\n"
   ]
  },
  {
   "cell_type": "code",
   "execution_count": 3,
   "metadata": {},
   "outputs": [
    {
     "name": "stdout",
     "output_type": "stream",
     "text": [
      "probabilidad de tener aguila =  0.505\n"
     ]
    }
   ],
   "source": [
    "# hacemos varias tiradas de moneda\n",
    "#  ensayos de tirada de moneda\n",
    "n = 1000\n",
    "Resultados = []\n",
    "\n",
    "count = 0\n",
    "\n",
    "for i in range(0,n):\n",
    "    Trial = np.random.choice(R_Moneda)\n",
    "    Resultados.append(Trial)\n",
    "    if Trial == 'Aguila':\n",
    "        count += 1\n",
    "        \n",
    "#print(Resultados)\n",
    "print('probabilidad de tener aguila = ', float(count) / float(n))"
   ]
  },
  {
   "cell_type": "markdown",
   "metadata": {},
   "source": [
    "### Método de Monte Carlo\n",
    "\n",
    "El **método de Monte Carlo** es una técnica estadística que utiliza **números aleatorios** para resolver problemas matemáticos que, en principio, no tienen una solución analítica sencilla. Es especialmente útil para **aproximar integrales, estimar probabilidades** y **modelar fenómenos complejos**.\n",
    "\n",
    "Una de las aplicaciones más conocidas es la estimación del valor de $\\pi$ mediante una simulación inspirada en un experimento de **Von Neumann**.\n",
    "\n",
    "#### Etapas del método de Monte Carlo\n",
    "\n",
    "1. **Generar números aleatorios**  \n",
    "   Se genera una secuencia de números aleatorios $r_1, r_2, \\dots, r_m$ distribuidos **uniformemente** en el intervalo $[0, 1]$.\n",
    "\n",
    "2. **Transformar la secuencia si es necesario**  \n",
    "   Usamos esta secuencia para construir una nueva secuencia $x_1, x_2, \\dots, x_m$, **distribuida de acuerdo con una función de densidad de probabilidad (PDF)** deseada $f(x)$, ya sea mediante métodos de transformación directa o por técnicas como aceptación-rechazo.\n",
    "\n",
    "3. **Estimar propiedades de la función $f(x)$**  \n",
    "   La secuencia $\\{x_i\\}$ se interpreta como una muestra simulada, y se usa para **estimar propiedades estadísticas** de $f(x)$. Por ejemplo, la probabilidad de que $x$ se encuentre dentro de un intervalo específico puede estimarse como:\n",
    "\n",
    "   \\begin{equation}\n",
    "   \\mathbb{P}(a \\leq x \\leq b) \\approx \\frac{\\text{Número de } x_i \\in [a, b]}{m}\n",
    "   \\end{equation}\n",
    "\n",
    "4. **Relación con la integración**  \n",
    "   Formalmente, un cálculo por Monte Carlo equivale a **aproximar una integral mediante un promedio muestral**. Si se quiere calcular:\n",
    "\n",
    "   \\begin{equation}\n",
    "   I = \\int_a^b f(x) \\, dx\n",
    "   \\end{equation}\n",
    "\n",
    "   entonces, se puede aproximar por:\n",
    "\n",
    "   \\begin{equation}\n",
    "   I \\approx \\frac{1}{m} \\sum_{i=1}^m f(x_i)\n",
    "   \\end{equation}\n",
    "\n",
    "   donde $x_i \\sim \\mathcal{U}(a, b)$.\n",
    "\n",
    "#### Ejemplo: Estimación de $\\pi$ mediante Monte Carlo\n",
    "\n",
    "Aplicamos el método de Monte Carlo para estimar el valor de $\\pi$, siguiendo las etapas generales del procedimiento:\n",
    "\n",
    "1. Simulamos $m$ puntos aleatorios $(x_i, y_i)$ en el cuadrado $[-1, 1] \\times [-1, 1]$. Esto equivale a generar dos secuencias de números aleatorios independientes, $x_1, x_2, \\dots, x_m$ y $y_1, y_2, \\dots, y_m$, ambos uniformemente distribuidos en $[-1, 1]$.\n",
    "\n",
    "2. No es necesario transformar las variables, ya que trabajamos directamente con una interpretación geométrica. Recordamos que el cuarto de círculo de radio 1, centrado en el origen, está contenido en el cuadrado unitario.\n",
    "\n",
    "El criterio para que un punto esté dentro del círculo es:\n",
    "\n",
    "\\begin{equation}\n",
    "x_i^2 + y_i^2 \\leq 1\n",
    "\\end{equation}\n",
    "\n",
    "3. Estimar una propiedad: la probabilidad geométrica\n",
    "\n",
    "La **proporción de puntos que caen dentro del círculo** nos da una estimación de la probabilidad de que un punto aleatorio $(x, y)$ se encuentre dentro del cuarto de círculo. Como el área del cuarto de círculo es $\\frac{\\pi}{4}$, estimamos:\n",
    "\n",
    "\\begin{equation}\n",
    "\\frac{\\pi}{4} \\approx \\frac{\\text{Número de puntos dentro del círculo}}{m}\n",
    "\\end{equation}\n",
    "\n",
    "Por lo tanto:\n",
    "\n",
    "\\begin{equation}\n",
    "\\pi \\approx 4 \\cdot \\frac{\\text{Número de puntos dentro del círculo}}{m}\n",
    "\\end{equation}\n",
    "\n",
    "4. Interpretación como una integral\n",
    "\n",
    "Este cálculo equivale a aproximar la integral:\n",
    "\n",
    "\\begin{equation}\n",
    "\\pi = 4 \\int_0^1 \\sqrt{1 - x^2} \\, dx\n",
    "\\end{equation}\n",
    "\n",
    "Pero en lugar de calcular esta integral directamente, se estima el área bajo la curva por simulación aleatoria de puntos en el plano."
   ]
  },
  {
   "cell_type": "code",
   "execution_count": 6,
   "metadata": {},
   "outputs": [
    {
     "name": "stdout",
     "output_type": "stream",
     "text": [
      "[0.22058057338324555] [0.35801170565141915]\n"
     ]
    }
   ],
   "source": [
    "n_puntos = 1\n",
    "x = np.random.uniform(-1,1,n_puntos).tolist()\n",
    "y = np.random.uniform(-1,1,n_puntos).tolist()\n",
    "print(x,y)"
   ]
  },
  {
   "cell_type": "code",
   "execution_count": 7,
   "metadata": {},
   "outputs": [
    {
     "data": {
      "image/png": "[encoded data removed]",
      "text/plain": [
       "<Figure size 640x480 with 1 Axes>"
      ]
     },
     "metadata": {},
     "output_type": "display_data"
    },
    {
     "name": "stdout",
     "output_type": "stream",
     "text": [
      "P= 0.78658\n",
      "Pi = 3.14632\n"
     ]
    }
   ],
   "source": [
    "n_puntos = 100000\n",
    "\n",
    "x = np.random.uniform(-1,1,n_puntos).tolist()\n",
    "y = np.random.uniform(-1,1,n_puntos).tolist()\n",
    "\n",
    "\n",
    "lista_dentro_circulo_x = []\n",
    "lista_dentro_circulo_y = []\n",
    "\n",
    "for i in range(0,len(x)):\n",
    "    radio = np.sqrt(x[i]**2 + y[i]**2)\n",
    "    if radio<=1.0:\n",
    "        lista_dentro_circulo_x.append(x[i])\n",
    "        lista_dentro_circulo_y.append(y[i])\n",
    "\n",
    "x_circ = np.array(lista_dentro_circulo_x)\n",
    "y_circ = np.array(lista_dentro_circulo_y)\n",
    "        \n",
    "plt.scatter(x,y, s=1.0)\n",
    "plt.scatter(x_circ,y_circ, s=1.0)\n",
    "\n",
    "plt.axis('square')\n",
    "plt.xlim(-1.0,1.0)\n",
    "plt.ylim(-1.0,1.0)\n",
    "plt.show()\n",
    "\n",
    "print('P=',len(x_circ) / n_puntos)\n",
    "\n",
    "print('Pi =',(len(x_circ) / n_puntos)*4)"
   ]
  },
  {
   "cell_type": "code",
   "execution_count": 8,
   "metadata": {},
   "outputs": [
    {
     "name": "stdout",
     "output_type": "stream",
     "text": [
      "3.141159199999999\n"
     ]
    },
    {
     "data": {
      "text/plain": [
       "[<matplotlib.lines.Line2D at 0x16ef94c40>]"
      ]
     },
     "execution_count": 8,
     "metadata": {},
     "output_type": "execute_result"
    },
    {
     "data": {
      "image/png": "[encoded data removed]",
      "text/plain": [
       "<Figure size 640x480 with 1 Axes>"
      ]
     },
     "metadata": {},
     "output_type": "display_data"
    }
   ],
   "source": [
    "## Se hace un promedio de varias estimaciones de pi\n",
    "\n",
    "\n",
    "\n",
    "# aplicacion de numeros aleatorios para recrear experimento de Von Neumann\n",
    "# para calcular el valor exacto de pi\n",
    "\n",
    "# los numeros entre 0 y 1 tienen que ser variables uniformes\n",
    "\n",
    "n = 100000\n",
    "pi_avg = 0 # pi empieza valiendo cero y luego se ira promediando\n",
    "pi_value_list = []\n",
    "\n",
    "for i in range(100):\n",
    "    \n",
    "    value = 0\n",
    "    x = np.random.uniform(0,1,n).tolist()  # se hacen n experimentos\n",
    "    y = np.random.uniform(0,1,n).tolist()\n",
    "    \n",
    "    for j in range(n): # filtro de datos\n",
    "        \n",
    "        z = np.sqrt(x[j]*x[j] + y[j]*y[j]) ## esto es ver que el radio es menor a 1\n",
    "    \n",
    "        if (z<=1):\n",
    "                \n",
    "            value += 1\n",
    "    \n",
    "    float_value = float(value) #numero de veces que cayo en el circulo\n",
    "    pi_value = float_value * 4 / n   # aproximacion de pi numero de casos del circulo / numero de casos no\n",
    "    pi_value_list.append(pi_value) # añadir la aproximacion a la lista\n",
    "    pi_avg += pi_value # se le suman valueres a la lista\n",
    "\n",
    "pi = pi_avg/100 # se saca el promedio entre las diferentes aproximaciones\n",
    "\n",
    "print(pi)\n",
    "plt.plot(pi_value_list)"
   ]
  },
  {
   "cell_type": "markdown",
   "metadata": {},
   "source": [
    "## Ejercicio: Distribución, tirada de una moneda"
   ]
  },
  {
   "cell_type": "code",
   "execution_count": 13,
   "metadata": {},
   "outputs": [
    {
     "data": {
      "text/html": [
       "<div>\n",
       "<style scoped>\n",
       "    .dataframe tbody tr th:only-of-type {\n",
       "        vertical-align: middle;\n",
       "    }\n",
       "\n",
       "    .dataframe tbody tr th {\n",
       "        vertical-align: top;\n",
       "    }\n",
       "\n",
       "    .dataframe thead th {\n",
       "        text-align: right;\n",
       "    }\n",
       "</style>\n",
       "<table border=\"1\" class=\"dataframe\">\n",
       "  <thead>\n",
       "    <tr style=\"text-align: right;\">\n",
       "      <th></th>\n",
       "      <th>ALARCÓN GUTIERREZ EDUARDO BASILIO</th>\n",
       "      <th>ARELLANO VALDES ADAN</th>\n",
       "      <th>BELTRAN VALDEZ DANIEL ALBERTO</th>\n",
       "      <th>CALOCA CAMARENA OSCAR MANUEL</th>\n",
       "      <th>CASTILLO RIOS JESSICA JAZMIN</th>\n",
       "      <th>FURRER FRANCO GRETEL</th>\n",
       "      <th>GAMAS GARCÍA EDGAR ABRAHAM</th>\n",
       "      <th>GÓMEZ GARCÍA ALEJANDRO</th>\n",
       "      <th>GÓMEZ SANDOVAL JUAN CARLOS</th>\n",
       "      <th>GONZALEZ FLORES GRACIELA</th>\n",
       "      <th>...</th>\n",
       "      <th>ORTIZ MACÍAS GUILLERMO</th>\n",
       "      <th>PÉREZ HUÍZAR SABRINA</th>\n",
       "      <th>PRADO DURÁN MARIA PALOMA</th>\n",
       "      <th>RADILLO DÍAZ JUAN CARLOS</th>\n",
       "      <th>RODARTE FRANCO LUIS GERARDO</th>\n",
       "      <th>ROMERO NEVAREZ MIGUEL ANGEL</th>\n",
       "      <th>SANDOVAL ROSAS JORGE</th>\n",
       "      <th>SANTOS MORALES JESÚS ALBERTO</th>\n",
       "      <th>VÁZQUEZ FLORES FRANCISCO JAVIER</th>\n",
       "      <th>ZUÑIGA GONZALEZ JOSE DE JESUS NICOLAS</th>\n",
       "    </tr>\n",
       "    <tr>\n",
       "      <th>ADAME BUENROSTRO LUIS DANIEL</th>\n",
       "      <th></th>\n",
       "      <th></th>\n",
       "      <th></th>\n",
       "      <th></th>\n",
       "      <th></th>\n",
       "      <th></th>\n",
       "      <th></th>\n",
       "      <th></th>\n",
       "      <th></th>\n",
       "      <th></th>\n",
       "      <th></th>\n",
       "      <th></th>\n",
       "      <th></th>\n",
       "      <th></th>\n",
       "      <th></th>\n",
       "      <th></th>\n",
       "      <th></th>\n",
       "      <th></th>\n",
       "      <th></th>\n",
       "      <th></th>\n",
       "      <th></th>\n",
       "    </tr>\n",
       "  </thead>\n",
       "  <tbody>\n",
       "    <tr>\n",
       "      <th>a</th>\n",
       "      <td>a</td>\n",
       "      <td>s</td>\n",
       "      <td>s</td>\n",
       "      <td>a</td>\n",
       "      <td>a</td>\n",
       "      <td>s</td>\n",
       "      <td>a</td>\n",
       "      <td>a</td>\n",
       "      <td>s</td>\n",
       "      <td>s</td>\n",
       "      <td>...</td>\n",
       "      <td>s</td>\n",
       "      <td>a</td>\n",
       "      <td>s</td>\n",
       "      <td>a</td>\n",
       "      <td>s</td>\n",
       "      <td>s</td>\n",
       "      <td>s</td>\n",
       "      <td>s</td>\n",
       "      <td>s</td>\n",
       "      <td>s</td>\n",
       "    </tr>\n",
       "    <tr>\n",
       "      <th>a</th>\n",
       "      <td>a</td>\n",
       "      <td>a</td>\n",
       "      <td>a</td>\n",
       "      <td>s</td>\n",
       "      <td>a</td>\n",
       "      <td>s</td>\n",
       "      <td>a</td>\n",
       "      <td>s</td>\n",
       "      <td>s</td>\n",
       "      <td>s</td>\n",
       "      <td>...</td>\n",
       "      <td>a</td>\n",
       "      <td>s</td>\n",
       "      <td>a</td>\n",
       "      <td>s</td>\n",
       "      <td>a</td>\n",
       "      <td>a</td>\n",
       "      <td>s</td>\n",
       "      <td>a</td>\n",
       "      <td>a</td>\n",
       "      <td>a</td>\n",
       "    </tr>\n",
       "    <tr>\n",
       "      <th>s</th>\n",
       "      <td>a</td>\n",
       "      <td>s</td>\n",
       "      <td>s</td>\n",
       "      <td>a</td>\n",
       "      <td>a</td>\n",
       "      <td>a</td>\n",
       "      <td>a</td>\n",
       "      <td>s</td>\n",
       "      <td>s</td>\n",
       "      <td>a</td>\n",
       "      <td>...</td>\n",
       "      <td>s</td>\n",
       "      <td>a</td>\n",
       "      <td>s</td>\n",
       "      <td>a</td>\n",
       "      <td>s</td>\n",
       "      <td>a</td>\n",
       "      <td>s</td>\n",
       "      <td>a</td>\n",
       "      <td>s</td>\n",
       "      <td>a</td>\n",
       "    </tr>\n",
       "    <tr>\n",
       "      <th>a</th>\n",
       "      <td>s</td>\n",
       "      <td>a</td>\n",
       "      <td>s</td>\n",
       "      <td>a</td>\n",
       "      <td>s</td>\n",
       "      <td>s</td>\n",
       "      <td>s</td>\n",
       "      <td>a</td>\n",
       "      <td>a</td>\n",
       "      <td>s</td>\n",
       "      <td>...</td>\n",
       "      <td>s</td>\n",
       "      <td>a</td>\n",
       "      <td>a</td>\n",
       "      <td>a</td>\n",
       "      <td>a</td>\n",
       "      <td>s</td>\n",
       "      <td>a</td>\n",
       "      <td>s</td>\n",
       "      <td>a</td>\n",
       "      <td>a</td>\n",
       "    </tr>\n",
       "    <tr>\n",
       "      <th>a</th>\n",
       "      <td>s</td>\n",
       "      <td>a</td>\n",
       "      <td>a</td>\n",
       "      <td>a</td>\n",
       "      <td>s</td>\n",
       "      <td>s</td>\n",
       "      <td>a</td>\n",
       "      <td>s</td>\n",
       "      <td>s</td>\n",
       "      <td>a</td>\n",
       "      <td>...</td>\n",
       "      <td>s</td>\n",
       "      <td>s</td>\n",
       "      <td>a</td>\n",
       "      <td>s</td>\n",
       "      <td>a</td>\n",
       "      <td>s</td>\n",
       "      <td>a</td>\n",
       "      <td>a</td>\n",
       "      <td>s</td>\n",
       "      <td>a</td>\n",
       "    </tr>\n",
       "  </tbody>\n",
       "</table>\n",
       "<p>5 rows × 24 columns</p>\n",
       "</div>"
      ],
      "text/plain": [
       "                             ALARCÓN GUTIERREZ EDUARDO BASILIO  \\\n",
       "ADAME BUENROSTRO LUIS DANIEL                                     \n",
       "a                                                            a   \n",
       "a                                                            a   \n",
       "s                                                            a   \n",
       "a                                                            s   \n",
       "a                                                            s   \n",
       "\n",
       "                             ARELLANO VALDES ADAN  \\\n",
       "ADAME BUENROSTRO LUIS DANIEL                        \n",
       "a                                               s   \n",
       "a                                               a   \n",
       "s                                               s   \n",
       "a                                               a   \n",
       "a                                               a   \n",
       "\n",
       "                             BELTRAN VALDEZ DANIEL ALBERTO  \\\n",
       "ADAME BUENROSTRO LUIS DANIEL                                 \n",
       "a                                                        s   \n",
       "a                                                        a   \n",
       "s                                                        s   \n",
       "a                                                        s   \n",
       "a                                                        a   \n",
       "\n",
       "                             CALOCA CAMARENA OSCAR MANUEL  \\\n",
       "ADAME BUENROSTRO LUIS DANIEL                                \n",
       "a                                                       a   \n",
       "a                                                       s   \n",
       "s                                                       a   \n",
       "a                                                       a   \n",
       "a                                                       a   \n",
       "\n",
       "                             CASTILLO RIOS JESSICA JAZMIN  \\\n",
       "ADAME BUENROSTRO LUIS DANIEL                                \n",
       "a                                                       a   \n",
       "a                                                       a   \n",
       "s                                                       a   \n",
       "a                                                       s   \n",
       "a                                                       s   \n",
       "\n",
       "                             FURRER FRANCO GRETEL GAMAS GARCÍA EDGAR ABRAHAM   \\\n",
       "ADAME BUENROSTRO LUIS DANIEL                                                    \n",
       "a                                               s                           a   \n",
       "a                                               s                           a   \n",
       "s                                               a                           a   \n",
       "a                                               s                           s   \n",
       "a                                               s                           a   \n",
       "\n",
       "                             GÓMEZ GARCÍA ALEJANDRO  \\\n",
       "ADAME BUENROSTRO LUIS DANIEL                          \n",
       "a                                                 a   \n",
       "a                                                 s   \n",
       "s                                                 s   \n",
       "a                                                 a   \n",
       "a                                                 s   \n",
       "\n",
       "                             GÓMEZ SANDOVAL JUAN CARLOS  \\\n",
       "ADAME BUENROSTRO LUIS DANIEL                              \n",
       "a                                                     s   \n",
       "a                                                     s   \n",
       "s                                                     s   \n",
       "a                                                     a   \n",
       "a                                                     s   \n",
       "\n",
       "                             GONZALEZ FLORES GRACIELA  ...  \\\n",
       "ADAME BUENROSTRO LUIS DANIEL                           ...   \n",
       "a                                                   s  ...   \n",
       "a                                                   s  ...   \n",
       "s                                                   a  ...   \n",
       "a                                                   s  ...   \n",
       "a                                                   a  ...   \n",
       "\n",
       "                             ORTIZ MACÍAS GUILLERMO  PÉREZ HUÍZAR SABRINA   \\\n",
       "ADAME BUENROSTRO LUIS DANIEL                                                 \n",
       "a                                                  s                     a   \n",
       "a                                                  a                     s   \n",
       "s                                                  s                     a   \n",
       "a                                                  s                     a   \n",
       "a                                                  s                     s   \n",
       "\n",
       "                             PRADO DURÁN MARIA PALOMA  \\\n",
       "ADAME BUENROSTRO LUIS DANIEL                            \n",
       "a                                                   s   \n",
       "a                                                   a   \n",
       "s                                                   s   \n",
       "a                                                   a   \n",
       "a                                                   a   \n",
       "\n",
       "                             RADILLO DÍAZ JUAN CARLOS  \\\n",
       "ADAME BUENROSTRO LUIS DANIEL                            \n",
       "a                                                   a   \n",
       "a                                                   s   \n",
       "s                                                   a   \n",
       "a                                                   a   \n",
       "a                                                   s   \n",
       "\n",
       "                             RODARTE FRANCO LUIS GERARDO   \\\n",
       "ADAME BUENROSTRO LUIS DANIEL                                \n",
       "a                                                       s   \n",
       "a                                                       a   \n",
       "s                                                       s   \n",
       "a                                                       a   \n",
       "a                                                       a   \n",
       "\n",
       "                             ROMERO NEVAREZ MIGUEL ANGEL  \\\n",
       "ADAME BUENROSTRO LUIS DANIEL                               \n",
       "a                                                      s   \n",
       "a                                                      a   \n",
       "s                                                      a   \n",
       "a                                                      s   \n",
       "a                                                      s   \n",
       "\n",
       "                             SANDOVAL ROSAS JORGE   \\\n",
       "ADAME BUENROSTRO LUIS DANIEL                         \n",
       "a                                                s   \n",
       "a                                                s   \n",
       "s                                                s   \n",
       "a                                                a   \n",
       "a                                                a   \n",
       "\n",
       "                             SANTOS MORALES JESÚS ALBERTO  \\\n",
       "ADAME BUENROSTRO LUIS DANIEL                                \n",
       "a                                                       s   \n",
       "a                                                       a   \n",
       "s                                                       a   \n",
       "a                                                       s   \n",
       "a                                                       a   \n",
       "\n",
       "                             VÁZQUEZ FLORES FRANCISCO JAVIER   \\\n",
       "ADAME BUENROSTRO LUIS DANIEL                                    \n",
       "a                                                           s   \n",
       "a                                                           a   \n",
       "s                                                           s   \n",
       "a                                                           a   \n",
       "a                                                           s   \n",
       "\n",
       "                             ZUÑIGA GONZALEZ JOSE DE JESUS NICOLAS  \n",
       "ADAME BUENROSTRO LUIS DANIEL                                        \n",
       "a                                                                s  \n",
       "a                                                                a  \n",
       "s                                                                a  \n",
       "a                                                                a  \n",
       "a                                                                a  \n",
       "\n",
       "[5 rows x 24 columns]"
      ]
     },
     "execution_count": 13,
     "metadata": {},
     "output_type": "execute_result"
    }
   ],
   "source": [
    "## Carga de datos (archivo .csv)\n",
    "\n",
    "mainpath = \"../Datasets\"\n",
    "filename = \"Prop_coinflip_2024B.csv\"\n",
    "fullpath = os.path.join(mainpath,filename)\n",
    "\n",
    "data = pd.read_csv(fullpath, sep=',', index_col=0)\n",
    "data.head(5)  # Mostrar las primeras 10 líneas"
   ]
  },
  {
   "cell_type": "code",
   "execution_count": 14,
   "metadata": {},
   "outputs": [
    {
     "data": {
      "text/plain": [
       "(100, 24)"
      ]
     },
     "execution_count": 14,
     "metadata": {},
     "output_type": "execute_result"
    }
   ],
   "source": [
    "data.shape"
   ]
  },
  {
   "cell_type": "code",
   "execution_count": 15,
   "metadata": {},
   "outputs": [
    {
     "data": {
      "text/plain": [
       "['a', 's']"
      ]
     },
     "execution_count": 15,
     "metadata": {},
     "output_type": "execute_result"
    }
   ],
   "source": [
    "R_Moneda = ['a','s']\n",
    "R_Moneda"
   ]
  },
  {
   "cell_type": "code",
   "execution_count": 16,
   "metadata": {},
   "outputs": [
    {
     "name": "stdout",
     "output_type": "stream",
     "text": [
      "0.49\n"
     ]
    }
   ],
   "source": [
    "count = 0\n",
    "count_s = 0\n",
    "for i in range(0,100):\n",
    "    count = count + 1 \n",
    "    a = np.random.choice(R_Moneda)\n",
    "    \n",
    "    if a == 'a':\n",
    "        count_s = count_s + 1\n",
    "print(count_s / count)\n",
    "#np.random.sample(R_Moneda,1)"
   ]
  },
  {
   "cell_type": "code",
   "execution_count": 17,
   "metadata": {},
   "outputs": [],
   "source": [
    "## cambiamos los valores por algo aleatorio\n",
    "for col in data.columns:\n",
    "    for i in range(0,len(data[col])):\n",
    "        data[col][i] = np.random.choice(R_Moneda)"
   ]
  },
  {
   "cell_type": "code",
   "execution_count": 18,
   "metadata": {},
   "outputs": [],
   "source": [
    "filename = 'Prop_coinflip_2024B_2.xlsx'\n",
    "fullpath = os.path.join(mainpath,filename)\n",
    "data.to_excel(fullpath)"
   ]
  },
  {
   "cell_type": "code",
   "execution_count": 19,
   "metadata": {},
   "outputs": [
    {
     "data": {
      "text/html": [
       "<div>\n",
       "<style scoped>\n",
       "    .dataframe tbody tr th:only-of-type {\n",
       "        vertical-align: middle;\n",
       "    }\n",
       "\n",
       "    .dataframe tbody tr th {\n",
       "        vertical-align: top;\n",
       "    }\n",
       "\n",
       "    .dataframe thead th {\n",
       "        text-align: right;\n",
       "    }\n",
       "</style>\n",
       "<table border=\"1\" class=\"dataframe\">\n",
       "  <thead>\n",
       "    <tr style=\"text-align: right;\">\n",
       "      <th></th>\n",
       "      <th>ALARCÓN GUTIERREZ EDUARDO BASILIO</th>\n",
       "      <th>ARELLANO VALDES ADAN</th>\n",
       "      <th>BELTRAN VALDEZ DANIEL ALBERTO</th>\n",
       "      <th>CALOCA CAMARENA OSCAR MANUEL</th>\n",
       "      <th>CASTILLO RIOS JESSICA JAZMIN</th>\n",
       "      <th>FURRER FRANCO GRETEL</th>\n",
       "      <th>GAMAS GARCÍA EDGAR ABRAHAM</th>\n",
       "      <th>GÓMEZ GARCÍA ALEJANDRO</th>\n",
       "      <th>GÓMEZ SANDOVAL JUAN CARLOS</th>\n",
       "      <th>GONZALEZ FLORES GRACIELA</th>\n",
       "      <th>...</th>\n",
       "      <th>ORTIZ MACÍAS GUILLERMO</th>\n",
       "      <th>PÉREZ HUÍZAR SABRINA</th>\n",
       "      <th>PRADO DURÁN MARIA PALOMA</th>\n",
       "      <th>RADILLO DÍAZ JUAN CARLOS</th>\n",
       "      <th>RODARTE FRANCO LUIS GERARDO</th>\n",
       "      <th>ROMERO NEVAREZ MIGUEL ANGEL</th>\n",
       "      <th>SANDOVAL ROSAS JORGE</th>\n",
       "      <th>SANTOS MORALES JESÚS ALBERTO</th>\n",
       "      <th>VÁZQUEZ FLORES FRANCISCO JAVIER</th>\n",
       "      <th>ZUÑIGA GONZALEZ JOSE DE JESUS NICOLAS</th>\n",
       "    </tr>\n",
       "    <tr>\n",
       "      <th>ADAME BUENROSTRO LUIS DANIEL</th>\n",
       "      <th></th>\n",
       "      <th></th>\n",
       "      <th></th>\n",
       "      <th></th>\n",
       "      <th></th>\n",
       "      <th></th>\n",
       "      <th></th>\n",
       "      <th></th>\n",
       "      <th></th>\n",
       "      <th></th>\n",
       "      <th></th>\n",
       "      <th></th>\n",
       "      <th></th>\n",
       "      <th></th>\n",
       "      <th></th>\n",
       "      <th></th>\n",
       "      <th></th>\n",
       "      <th></th>\n",
       "      <th></th>\n",
       "      <th></th>\n",
       "      <th></th>\n",
       "    </tr>\n",
       "  </thead>\n",
       "  <tbody>\n",
       "    <tr>\n",
       "      <th>a</th>\n",
       "      <td>s</td>\n",
       "      <td>s</td>\n",
       "      <td>s</td>\n",
       "      <td>s</td>\n",
       "      <td>a</td>\n",
       "      <td>a</td>\n",
       "      <td>s</td>\n",
       "      <td>s</td>\n",
       "      <td>s</td>\n",
       "      <td>s</td>\n",
       "      <td>...</td>\n",
       "      <td>a</td>\n",
       "      <td>a</td>\n",
       "      <td>s</td>\n",
       "      <td>a</td>\n",
       "      <td>a</td>\n",
       "      <td>s</td>\n",
       "      <td>a</td>\n",
       "      <td>s</td>\n",
       "      <td>s</td>\n",
       "      <td>a</td>\n",
       "    </tr>\n",
       "    <tr>\n",
       "      <th>a</th>\n",
       "      <td>s</td>\n",
       "      <td>s</td>\n",
       "      <td>a</td>\n",
       "      <td>a</td>\n",
       "      <td>s</td>\n",
       "      <td>s</td>\n",
       "      <td>a</td>\n",
       "      <td>s</td>\n",
       "      <td>s</td>\n",
       "      <td>s</td>\n",
       "      <td>...</td>\n",
       "      <td>a</td>\n",
       "      <td>a</td>\n",
       "      <td>s</td>\n",
       "      <td>s</td>\n",
       "      <td>s</td>\n",
       "      <td>s</td>\n",
       "      <td>s</td>\n",
       "      <td>s</td>\n",
       "      <td>a</td>\n",
       "      <td>a</td>\n",
       "    </tr>\n",
       "    <tr>\n",
       "      <th>s</th>\n",
       "      <td>s</td>\n",
       "      <td>a</td>\n",
       "      <td>a</td>\n",
       "      <td>s</td>\n",
       "      <td>s</td>\n",
       "      <td>s</td>\n",
       "      <td>a</td>\n",
       "      <td>a</td>\n",
       "      <td>a</td>\n",
       "      <td>s</td>\n",
       "      <td>...</td>\n",
       "      <td>s</td>\n",
       "      <td>s</td>\n",
       "      <td>s</td>\n",
       "      <td>s</td>\n",
       "      <td>a</td>\n",
       "      <td>s</td>\n",
       "      <td>s</td>\n",
       "      <td>a</td>\n",
       "      <td>a</td>\n",
       "      <td>s</td>\n",
       "    </tr>\n",
       "    <tr>\n",
       "      <th>a</th>\n",
       "      <td>s</td>\n",
       "      <td>s</td>\n",
       "      <td>a</td>\n",
       "      <td>s</td>\n",
       "      <td>a</td>\n",
       "      <td>s</td>\n",
       "      <td>s</td>\n",
       "      <td>s</td>\n",
       "      <td>s</td>\n",
       "      <td>s</td>\n",
       "      <td>...</td>\n",
       "      <td>s</td>\n",
       "      <td>a</td>\n",
       "      <td>a</td>\n",
       "      <td>a</td>\n",
       "      <td>s</td>\n",
       "      <td>a</td>\n",
       "      <td>a</td>\n",
       "      <td>s</td>\n",
       "      <td>a</td>\n",
       "      <td>s</td>\n",
       "    </tr>\n",
       "    <tr>\n",
       "      <th>a</th>\n",
       "      <td>a</td>\n",
       "      <td>s</td>\n",
       "      <td>a</td>\n",
       "      <td>s</td>\n",
       "      <td>s</td>\n",
       "      <td>a</td>\n",
       "      <td>s</td>\n",
       "      <td>a</td>\n",
       "      <td>a</td>\n",
       "      <td>s</td>\n",
       "      <td>...</td>\n",
       "      <td>a</td>\n",
       "      <td>a</td>\n",
       "      <td>a</td>\n",
       "      <td>s</td>\n",
       "      <td>a</td>\n",
       "      <td>s</td>\n",
       "      <td>a</td>\n",
       "      <td>a</td>\n",
       "      <td>s</td>\n",
       "      <td>s</td>\n",
       "    </tr>\n",
       "    <tr>\n",
       "      <th>...</th>\n",
       "      <td>...</td>\n",
       "      <td>...</td>\n",
       "      <td>...</td>\n",
       "      <td>...</td>\n",
       "      <td>...</td>\n",
       "      <td>...</td>\n",
       "      <td>...</td>\n",
       "      <td>...</td>\n",
       "      <td>...</td>\n",
       "      <td>...</td>\n",
       "      <td>...</td>\n",
       "      <td>...</td>\n",
       "      <td>...</td>\n",
       "      <td>...</td>\n",
       "      <td>...</td>\n",
       "      <td>...</td>\n",
       "      <td>...</td>\n",
       "      <td>...</td>\n",
       "      <td>...</td>\n",
       "      <td>...</td>\n",
       "      <td>...</td>\n",
       "    </tr>\n",
       "    <tr>\n",
       "      <th>a</th>\n",
       "      <td>a</td>\n",
       "      <td>a</td>\n",
       "      <td>s</td>\n",
       "      <td>a</td>\n",
       "      <td>s</td>\n",
       "      <td>a</td>\n",
       "      <td>a</td>\n",
       "      <td>s</td>\n",
       "      <td>a</td>\n",
       "      <td>a</td>\n",
       "      <td>...</td>\n",
       "      <td>s</td>\n",
       "      <td>s</td>\n",
       "      <td>s</td>\n",
       "      <td>s</td>\n",
       "      <td>a</td>\n",
       "      <td>a</td>\n",
       "      <td>s</td>\n",
       "      <td>s</td>\n",
       "      <td>s</td>\n",
       "      <td>a</td>\n",
       "    </tr>\n",
       "    <tr>\n",
       "      <th>s</th>\n",
       "      <td>a</td>\n",
       "      <td>s</td>\n",
       "      <td>a</td>\n",
       "      <td>a</td>\n",
       "      <td>s</td>\n",
       "      <td>a</td>\n",
       "      <td>a</td>\n",
       "      <td>s</td>\n",
       "      <td>s</td>\n",
       "      <td>s</td>\n",
       "      <td>...</td>\n",
       "      <td>a</td>\n",
       "      <td>a</td>\n",
       "      <td>a</td>\n",
       "      <td>s</td>\n",
       "      <td>a</td>\n",
       "      <td>a</td>\n",
       "      <td>a</td>\n",
       "      <td>a</td>\n",
       "      <td>s</td>\n",
       "      <td>a</td>\n",
       "    </tr>\n",
       "    <tr>\n",
       "      <th>s</th>\n",
       "      <td>a</td>\n",
       "      <td>s</td>\n",
       "      <td>s</td>\n",
       "      <td>s</td>\n",
       "      <td>s</td>\n",
       "      <td>a</td>\n",
       "      <td>a</td>\n",
       "      <td>a</td>\n",
       "      <td>s</td>\n",
       "      <td>a</td>\n",
       "      <td>...</td>\n",
       "      <td>a</td>\n",
       "      <td>s</td>\n",
       "      <td>a</td>\n",
       "      <td>a</td>\n",
       "      <td>s</td>\n",
       "      <td>s</td>\n",
       "      <td>a</td>\n",
       "      <td>a</td>\n",
       "      <td>a</td>\n",
       "      <td>a</td>\n",
       "    </tr>\n",
       "    <tr>\n",
       "      <th>s</th>\n",
       "      <td>s</td>\n",
       "      <td>a</td>\n",
       "      <td>a</td>\n",
       "      <td>a</td>\n",
       "      <td>s</td>\n",
       "      <td>a</td>\n",
       "      <td>a</td>\n",
       "      <td>a</td>\n",
       "      <td>a</td>\n",
       "      <td>a</td>\n",
       "      <td>...</td>\n",
       "      <td>s</td>\n",
       "      <td>s</td>\n",
       "      <td>s</td>\n",
       "      <td>a</td>\n",
       "      <td>a</td>\n",
       "      <td>s</td>\n",
       "      <td>s</td>\n",
       "      <td>a</td>\n",
       "      <td>a</td>\n",
       "      <td>a</td>\n",
       "    </tr>\n",
       "    <tr>\n",
       "      <th>a</th>\n",
       "      <td>a</td>\n",
       "      <td>s</td>\n",
       "      <td>a</td>\n",
       "      <td>a</td>\n",
       "      <td>a</td>\n",
       "      <td>a</td>\n",
       "      <td>s</td>\n",
       "      <td>a</td>\n",
       "      <td>s</td>\n",
       "      <td>a</td>\n",
       "      <td>...</td>\n",
       "      <td>s</td>\n",
       "      <td>s</td>\n",
       "      <td>a</td>\n",
       "      <td>a</td>\n",
       "      <td>s</td>\n",
       "      <td>s</td>\n",
       "      <td>a</td>\n",
       "      <td>a</td>\n",
       "      <td>s</td>\n",
       "      <td>a</td>\n",
       "    </tr>\n",
       "  </tbody>\n",
       "</table>\n",
       "<p>100 rows × 24 columns</p>\n",
       "</div>"
      ],
      "text/plain": [
       "                             ALARCÓN GUTIERREZ EDUARDO BASILIO  \\\n",
       "ADAME BUENROSTRO LUIS DANIEL                                     \n",
       "a                                                            s   \n",
       "a                                                            s   \n",
       "s                                                            s   \n",
       "a                                                            s   \n",
       "a                                                            a   \n",
       "...                                                        ...   \n",
       "a                                                            a   \n",
       "s                                                            a   \n",
       "s                                                            a   \n",
       "s                                                            s   \n",
       "a                                                            a   \n",
       "\n",
       "                             ARELLANO VALDES ADAN  \\\n",
       "ADAME BUENROSTRO LUIS DANIEL                        \n",
       "a                                               s   \n",
       "a                                               s   \n",
       "s                                               a   \n",
       "a                                               s   \n",
       "a                                               s   \n",
       "...                                           ...   \n",
       "a                                               a   \n",
       "s                                               s   \n",
       "s                                               s   \n",
       "s                                               a   \n",
       "a                                               s   \n",
       "\n",
       "                             BELTRAN VALDEZ DANIEL ALBERTO  \\\n",
       "ADAME BUENROSTRO LUIS DANIEL                                 \n",
       "a                                                        s   \n",
       "a                                                        a   \n",
       "s                                                        a   \n",
       "a                                                        a   \n",
       "a                                                        a   \n",
       "...                                                    ...   \n",
       "a                                                        s   \n",
       "s                                                        a   \n",
       "s                                                        s   \n",
       "s                                                        a   \n",
       "a                                                        a   \n",
       "\n",
       "                             CALOCA CAMARENA OSCAR MANUEL  \\\n",
       "ADAME BUENROSTRO LUIS DANIEL                                \n",
       "a                                                       s   \n",
       "a                                                       a   \n",
       "s                                                       s   \n",
       "a                                                       s   \n",
       "a                                                       s   \n",
       "...                                                   ...   \n",
       "a                                                       a   \n",
       "s                                                       a   \n",
       "s                                                       s   \n",
       "s                                                       a   \n",
       "a                                                       a   \n",
       "\n",
       "                             CASTILLO RIOS JESSICA JAZMIN  \\\n",
       "ADAME BUENROSTRO LUIS DANIEL                                \n",
       "a                                                       a   \n",
       "a                                                       s   \n",
       "s                                                       s   \n",
       "a                                                       a   \n",
       "a                                                       s   \n",
       "...                                                   ...   \n",
       "a                                                       s   \n",
       "s                                                       s   \n",
       "s                                                       s   \n",
       "s                                                       s   \n",
       "a                                                       a   \n",
       "\n",
       "                             FURRER FRANCO GRETEL GAMAS GARCÍA EDGAR ABRAHAM   \\\n",
       "ADAME BUENROSTRO LUIS DANIEL                                                    \n",
       "a                                               a                           s   \n",
       "a                                               s                           a   \n",
       "s                                               s                           a   \n",
       "a                                               s                           s   \n",
       "a                                               a                           s   \n",
       "...                                           ...                         ...   \n",
       "a                                               a                           a   \n",
       "s                                               a                           a   \n",
       "s                                               a                           a   \n",
       "s                                               a                           a   \n",
       "a                                               a                           s   \n",
       "\n",
       "                             GÓMEZ GARCÍA ALEJANDRO  \\\n",
       "ADAME BUENROSTRO LUIS DANIEL                          \n",
       "a                                                 s   \n",
       "a                                                 s   \n",
       "s                                                 a   \n",
       "a                                                 s   \n",
       "a                                                 a   \n",
       "...                                             ...   \n",
       "a                                                 s   \n",
       "s                                                 s   \n",
       "s                                                 a   \n",
       "s                                                 a   \n",
       "a                                                 a   \n",
       "\n",
       "                             GÓMEZ SANDOVAL JUAN CARLOS  \\\n",
       "ADAME BUENROSTRO LUIS DANIEL                              \n",
       "a                                                     s   \n",
       "a                                                     s   \n",
       "s                                                     a   \n",
       "a                                                     s   \n",
       "a                                                     a   \n",
       "...                                                 ...   \n",
       "a                                                     a   \n",
       "s                                                     s   \n",
       "s                                                     s   \n",
       "s                                                     a   \n",
       "a                                                     s   \n",
       "\n",
       "                             GONZALEZ FLORES GRACIELA  ...  \\\n",
       "ADAME BUENROSTRO LUIS DANIEL                           ...   \n",
       "a                                                   s  ...   \n",
       "a                                                   s  ...   \n",
       "s                                                   s  ...   \n",
       "a                                                   s  ...   \n",
       "a                                                   s  ...   \n",
       "...                                               ...  ...   \n",
       "a                                                   a  ...   \n",
       "s                                                   s  ...   \n",
       "s                                                   a  ...   \n",
       "s                                                   a  ...   \n",
       "a                                                   a  ...   \n",
       "\n",
       "                             ORTIZ MACÍAS GUILLERMO  PÉREZ HUÍZAR SABRINA   \\\n",
       "ADAME BUENROSTRO LUIS DANIEL                                                 \n",
       "a                                                  a                     a   \n",
       "a                                                  a                     a   \n",
       "s                                                  s                     s   \n",
       "a                                                  s                     a   \n",
       "a                                                  a                     a   \n",
       "...                                              ...                   ...   \n",
       "a                                                  s                     s   \n",
       "s                                                  a                     a   \n",
       "s                                                  a                     s   \n",
       "s                                                  s                     s   \n",
       "a                                                  s                     s   \n",
       "\n",
       "                             PRADO DURÁN MARIA PALOMA  \\\n",
       "ADAME BUENROSTRO LUIS DANIEL                            \n",
       "a                                                   s   \n",
       "a                                                   s   \n",
       "s                                                   s   \n",
       "a                                                   a   \n",
       "a                                                   a   \n",
       "...                                               ...   \n",
       "a                                                   s   \n",
       "s                                                   a   \n",
       "s                                                   a   \n",
       "s                                                   s   \n",
       "a                                                   a   \n",
       "\n",
       "                             RADILLO DÍAZ JUAN CARLOS  \\\n",
       "ADAME BUENROSTRO LUIS DANIEL                            \n",
       "a                                                   a   \n",
       "a                                                   s   \n",
       "s                                                   s   \n",
       "a                                                   a   \n",
       "a                                                   s   \n",
       "...                                               ...   \n",
       "a                                                   s   \n",
       "s                                                   s   \n",
       "s                                                   a   \n",
       "s                                                   a   \n",
       "a                                                   a   \n",
       "\n",
       "                             RODARTE FRANCO LUIS GERARDO   \\\n",
       "ADAME BUENROSTRO LUIS DANIEL                                \n",
       "a                                                       a   \n",
       "a                                                       s   \n",
       "s                                                       a   \n",
       "a                                                       s   \n",
       "a                                                       a   \n",
       "...                                                   ...   \n",
       "a                                                       a   \n",
       "s                                                       a   \n",
       "s                                                       s   \n",
       "s                                                       a   \n",
       "a                                                       s   \n",
       "\n",
       "                             ROMERO NEVAREZ MIGUEL ANGEL  \\\n",
       "ADAME BUENROSTRO LUIS DANIEL                               \n",
       "a                                                      s   \n",
       "a                                                      s   \n",
       "s                                                      s   \n",
       "a                                                      a   \n",
       "a                                                      s   \n",
       "...                                                  ...   \n",
       "a                                                      a   \n",
       "s                                                      a   \n",
       "s                                                      s   \n",
       "s                                                      s   \n",
       "a                                                      s   \n",
       "\n",
       "                             SANDOVAL ROSAS JORGE   \\\n",
       "ADAME BUENROSTRO LUIS DANIEL                         \n",
       "a                                                a   \n",
       "a                                                s   \n",
       "s                                                s   \n",
       "a                                                a   \n",
       "a                                                a   \n",
       "...                                            ...   \n",
       "a                                                s   \n",
       "s                                                a   \n",
       "s                                                a   \n",
       "s                                                s   \n",
       "a                                                a   \n",
       "\n",
       "                             SANTOS MORALES JESÚS ALBERTO  \\\n",
       "ADAME BUENROSTRO LUIS DANIEL                                \n",
       "a                                                       s   \n",
       "a                                                       s   \n",
       "s                                                       a   \n",
       "a                                                       s   \n",
       "a                                                       a   \n",
       "...                                                   ...   \n",
       "a                                                       s   \n",
       "s                                                       a   \n",
       "s                                                       a   \n",
       "s                                                       a   \n",
       "a                                                       a   \n",
       "\n",
       "                             VÁZQUEZ FLORES FRANCISCO JAVIER   \\\n",
       "ADAME BUENROSTRO LUIS DANIEL                                    \n",
       "a                                                           s   \n",
       "a                                                           a   \n",
       "s                                                           a   \n",
       "a                                                           a   \n",
       "a                                                           s   \n",
       "...                                                       ...   \n",
       "a                                                           s   \n",
       "s                                                           s   \n",
       "s                                                           a   \n",
       "s                                                           a   \n",
       "a                                                           s   \n",
       "\n",
       "                             ZUÑIGA GONZALEZ JOSE DE JESUS NICOLAS  \n",
       "ADAME BUENROSTRO LUIS DANIEL                                        \n",
       "a                                                                a  \n",
       "a                                                                a  \n",
       "s                                                                s  \n",
       "a                                                                s  \n",
       "a                                                                s  \n",
       "...                                                            ...  \n",
       "a                                                                a  \n",
       "s                                                                a  \n",
       "s                                                                a  \n",
       "s                                                                a  \n",
       "a                                                                a  \n",
       "\n",
       "[100 rows x 24 columns]"
      ]
     },
     "execution_count": 19,
     "metadata": {},
     "output_type": "execute_result"
    }
   ],
   "source": [
    "data"
   ]
  },
  {
   "cell_type": "code",
   "execution_count": 20,
   "metadata": {},
   "outputs": [
    {
     "name": "stdout",
     "output_type": "stream",
     "text": [
      "ALARCÓN GUTIERREZ EDUARDO BASILIO -> ['s', 'a'] probabilidad de obtener un aguila =  0.58\n",
      "ARELLANO VALDES ADAN -> ['s', 'a'] probabilidad de obtener un aguila =  0.58\n",
      "BELTRAN VALDEZ DANIEL ALBERTO -> ['s', 'a'] probabilidad de obtener un aguila =  0.5\n",
      "CALOCA CAMARENA OSCAR MANUEL -> ['a', 's'] probabilidad de obtener un aguila =  0.53\n",
      "CASTILLO RIOS JESSICA JAZMIN -> ['s', 'a'] probabilidad de obtener un aguila =  0.56\n",
      "FURRER FRANCO GRETEL -> ['a', 's'] probabilidad de obtener un aguila =  0.55\n",
      "GAMAS GARCÍA EDGAR ABRAHAM  -> ['a', 's'] probabilidad de obtener un aguila =  0.51\n",
      "GÓMEZ GARCÍA ALEJANDRO -> ['a', 's'] probabilidad de obtener un aguila =  0.54\n",
      "GÓMEZ SANDOVAL JUAN CARLOS -> ['a', 's'] probabilidad de obtener un aguila =  0.54\n",
      "GONZALEZ FLORES GRACIELA -> ['a', 's'] probabilidad de obtener un aguila =  0.52\n",
      "JIMENEZ GUZMÁN JOSAFAT -> ['s', 'a'] probabilidad de obtener un aguila =  0.53\n",
      "LAMAS TORRES RICARDO ARTURO -> ['a', 's'] probabilidad de obtener un aguila =  0.54\n",
      "LÓPEZ AGUILAR HERNÁNDEZ JOSÉ FERNANDO -> ['s', 'a'] probabilidad de obtener un aguila =  0.51\n",
      "MORENO SANCHEZ KAREN ANDREA  -> ['s', 'a'] probabilidad de obtener un aguila =  0.59\n",
      "ORTIZ MACÍAS GUILLERMO  -> ['s', 'a'] probabilidad de obtener un aguila =  0.54\n",
      "PÉREZ HUÍZAR SABRINA  -> ['a', 's'] probabilidad de obtener un aguila =  0.55\n",
      "PRADO DURÁN MARIA PALOMA -> ['s', 'a'] probabilidad de obtener un aguila =  0.51\n",
      "RADILLO DÍAZ JUAN CARLOS -> ['a', 's'] probabilidad de obtener un aguila =  0.54\n",
      "RODARTE FRANCO LUIS GERARDO  -> ['s', 'a'] probabilidad de obtener un aguila =  0.51\n",
      "ROMERO NEVAREZ MIGUEL ANGEL -> ['s', 'a'] probabilidad de obtener un aguila =  0.55\n",
      "SANDOVAL ROSAS JORGE  -> ['a', 's'] probabilidad de obtener un aguila =  0.57\n",
      "SANTOS MORALES JESÚS ALBERTO -> ['a', 's'] probabilidad de obtener un aguila =  0.51\n",
      "VÁZQUEZ FLORES FRANCISCO JAVIER  -> ['a', 's'] probabilidad de obtener un aguila =  0.51\n",
      "ZUÑIGA GONZALEZ JOSE DE JESUS NICOLAS -> ['a', 's'] probabilidad de obtener un aguila =  0.52\n"
     ]
    }
   ],
   "source": [
    "for col in data.columns:\n",
    "    df = pd.value_counts(data[col]).to_frame()\n",
    "    print(col,'->',df.index.to_list(), 'probabilidad de obtener un aguila = ',df[col][0] / (df[col][0] + df[col][1]))"
   ]
  },
  {
   "cell_type": "code",
   "execution_count": null,
   "metadata": {},
   "outputs": [],
   "source": []
  },
  {
   "cell_type": "code",
   "execution_count": 53,
   "metadata": {},
   "outputs": [
    {
     "name": "stdout",
     "output_type": "stream",
     "text": [
      "ALARCÓN GUTIERREZ EDUARDO BASILIO -> [25, 12, 5, 2, 0, 1, 1, 0, 0, 0, 1, 0] 1\n"
     ]
    },
    {
     "data": {
      "image/png": "[encoded data removed]",
      "text/plain": [
       "<Figure size 432x288 with 1 Axes>"
      ]
     },
     "metadata": {
      "needs_background": "light"
     },
     "output_type": "display_data"
    },
    {
     "name": "stdout",
     "output_type": "stream",
     "text": [
      "ARELLANO VALDES ADAN -> [29, 3, 3, 4, 6, 1, 0, 0, 0, 0, 0, 0] 1\n"
     ]
    },
    {
     "data": {
      "image/png": "[encoded data removed]",
      "text/plain": [
       "<Figure size 432x288 with 1 Axes>"
      ]
     },
     "metadata": {
      "needs_background": "light"
     },
     "output_type": "display_data"
    },
    {
     "name": "stdout",
     "output_type": "stream",
     "text": [
      "BELTRAN VALDEZ DANIEL ALBERTO -> [23, 9, 6, 8, 0, 1, 0, 0, 0, 0, 0, 0] 1\n"
     ]
    },
    {
     "data": {
      "image/png": "[encoded data removed]",
      "text/plain": [
       "<Figure size 432x288 with 1 Axes>"
      ]
     },
     "metadata": {
      "needs_background": "light"
     },
     "output_type": "display_data"
    },
    {
     "name": "stdout",
     "output_type": "stream",
     "text": [
      "CALOCA CAMARENA OSCAR MANUEL -> [33, 13, 3, 3, 2, 0, 0, 1, 0, 0, 0, 0] 2\n"
     ]
    },
    {
     "data": {
      "image/png": "[encoded data removed]",
      "text/plain": [
       "<Figure size 432x288 with 1 Axes>"
      ]
     },
     "metadata": {
      "needs_background": "light"
     },
     "output_type": "display_data"
    },
    {
     "name": "stdout",
     "output_type": "stream",
     "text": [
      "CASTILLO RIOS JESSICA JAZMIN -> [20, 13, 7, 4, 1, 0, 0, 1, 0, 0, 0, 0] 1\n"
     ]
    },
    {
     "data": {
      "image/png": "[encoded data removed]",
      "text/plain": [
       "<Figure size 432x288 with 1 Axes>"
      ]
     },
     "metadata": {
      "needs_background": "light"
     },
     "output_type": "display_data"
    },
    {
     "name": "stdout",
     "output_type": "stream",
     "text": [
      "FURRER FRANCO GRETEL -> [26, 9, 6, 4, 1, 2, 0, 0, 0, 0, 0, 0] 2\n"
     ]
    },
    {
     "data": {
      "image/png": "[encoded data removed]",
      "text/plain": [
       "<Figure size 432x288 with 1 Axes>"
      ]
     },
     "metadata": {
      "needs_background": "light"
     },
     "output_type": "display_data"
    },
    {
     "name": "stdout",
     "output_type": "stream",
     "text": [
      "GAMAS GARCÍA EDGAR ABRAHAM  -> [33, 15, 5, 2, 0, 2, 0, 0, 0, 0, 0, 0] 1\n"
     ]
    },
    {
     "data": {
      "image/png": "[encoded data removed]",
      "text/plain": [
       "<Figure size 432x288 with 1 Axes>"
      ]
     },
     "metadata": {
      "needs_background": "light"
     },
     "output_type": "display_data"
    },
    {
     "name": "stdout",
     "output_type": "stream",
     "text": [
      "GÓMEZ GARCÍA ALEJANDRO -> [16, 33, 4, 1, 0, 0, 0, 0, 0, 0, 0, 0] 2\n"
     ]
    },
    {
     "data": {
      "image/png": "[encoded data removed]",
      "text/plain": [
       "<Figure size 432x288 with 1 Axes>"
      ]
     },
     "metadata": {
      "needs_background": "light"
     },
     "output_type": "display_data"
    },
    {
     "name": "stdout",
     "output_type": "stream",
     "text": [
      "GÓMEZ SANDOVAL JUAN CARLOS -> [38, 16, 1, 1, 0, 0, 3, 0, 0, 0, 0, 0] 2\n"
     ]
    },
    {
     "data": {
      "image/png": "[encoded data removed]",
      "text/plain": [
       "<Figure size 432x288 with 1 Axes>"
      ]
     },
     "metadata": {
      "needs_background": "light"
     },
     "output_type": "display_data"
    },
    {
     "name": "stdout",
     "output_type": "stream",
     "text": [
      "GONZALEZ FLORES GRACIELA -> [34, 20, 1, 1, 0, 1, 0, 0, 0, 0, 1, 0] 2\n"
     ]
    },
    {
     "data": {
      "image/png": "[encoded data removed]",
      "text/plain": [
       "<Figure size 432x288 with 1 Axes>"
      ]
     },
     "metadata": {
      "needs_background": "light"
     },
     "output_type": "display_data"
    },
    {
     "name": "stdout",
     "output_type": "stream",
     "text": [
      "JIMENEZ GUZMÁN JOSAFAT -> [21, 23, 3, 3, 1, 0, 0, 0, 0, 0, 0, 0] 2\n"
     ]
    },
    {
     "data": {
      "image/png": "[encoded data removed]",
      "text/plain": [
       "<Figure size 432x288 with 1 Axes>"
      ]
     },
     "metadata": {
      "needs_background": "light"
     },
     "output_type": "display_data"
    },
    {
     "name": "stdout",
     "output_type": "stream",
     "text": [
      "LAMAS TORRES RICARDO ARTURO -> [23, 16, 6, 2, 2, 1, 0, 0, 0, 0, 0, 0] 1\n"
     ]
    },
    {
     "data": {
      "image/png": "[encoded data removed]",
      "text/plain": [
       "<Figure size 432x288 with 1 Axes>"
      ]
     },
     "metadata": {
      "needs_background": "light"
     },
     "output_type": "display_data"
    },
    {
     "name": "stdout",
     "output_type": "stream",
     "text": [
      "LÓPEZ AGUILAR HERNÁNDEZ JOSÉ FERNANDO -> [27, 12, 7, 5, 1, 0, 0, 0, 0, 0, 0, 0] 2\n"
     ]
    },
    {
     "data": {
      "image/png": "[encoded data removed]",
      "text/plain": [
       "<Figure size 432x288 with 1 Axes>"
      ]
     },
     "metadata": {
      "needs_background": "light"
     },
     "output_type": "display_data"
    },
    {
     "name": "stdout",
     "output_type": "stream",
     "text": [
      "MORENO SANCHEZ KAREN ANDREA  -> [17, 9, 8, 4, 1, 1, 0, 0, 0, 0, 0, 1] 2\n"
     ]
    },
    {
     "data": {
      "image/png": "[encoded data removed]",
      "text/plain": [
       "<Figure size 432x288 with 1 Axes>"
      ]
     },
     "metadata": {
      "needs_background": "light"
     },
     "output_type": "display_data"
    },
    {
     "name": "stdout",
     "output_type": "stream",
     "text": [
      "ORTIZ MACÍAS GUILLERMO  -> [24, 15, 9, 1, 1, 1, 0, 0, 0, 0, 0, 0] 1\n"
     ]
    },
    {
     "data": {
      "image/png": "[encoded data removed]",
      "text/plain": [
       "<Figure size 432x288 with 1 Axes>"
      ]
     },
     "metadata": {
      "needs_background": "light"
     },
     "output_type": "display_data"
    },
    {
     "name": "stdout",
     "output_type": "stream",
     "text": [
      "PÉREZ HUÍZAR SABRINA  -> [16, 15, 11, 3, 1, 0, 0, 0, 0, 0, 0, 0] 2\n"
     ]
    },
    {
     "data": {
      "image/png": "[encoded data removed]",
      "text/plain": [
       "<Figure size 432x288 with 1 Axes>"
      ]
     },
     "metadata": {
      "needs_background": "light"
     },
     "output_type": "display_data"
    },
    {
     "name": "stdout",
     "output_type": "stream",
     "text": [
      "PRADO DURÁN MARIA PALOMA -> [37, 14, 3, 2, 1, 0, 0, 1, 0, 0, 0, 0] 1\n"
     ]
    },
    {
     "data": {
      "image/png": "[encoded data removed]",
      "text/plain": [
       "<Figure size 432x288 with 1 Axes>"
      ]
     },
     "metadata": {
      "needs_background": "light"
     },
     "output_type": "display_data"
    },
    {
     "name": "stdout",
     "output_type": "stream",
     "text": [
      "RADILLO DÍAZ JUAN CARLOS -> [18, 15, 6, 3, 1, 1, 0, 1, 0, 0, 0, 0] 2\n"
     ]
    },
    {
     "data": {
      "image/png": "[encoded data removed]",
      "text/plain": [
       "<Figure size 432x288 with 1 Axes>"
      ]
     },
     "metadata": {
      "needs_background": "light"
     },
     "output_type": "display_data"
    },
    {
     "name": "stdout",
     "output_type": "stream",
     "text": [
      "RODARTE FRANCO LUIS GERARDO  -> [27, 9, 5, 3, 2, 1, 0, 1, 0, 0, 0, 0] 1\n"
     ]
    },
    {
     "data": {
      "image/png": "[encoded data removed]",
      "text/plain": [
       "<Figure size 432x288 with 1 Axes>"
      ]
     },
     "metadata": {
      "needs_background": "light"
     },
     "output_type": "display_data"
    },
    {
     "name": "stdout",
     "output_type": "stream",
     "text": [
      "ROMERO NEVAREZ MIGUEL ANGEL -> [20, 8, 6, 4, 4, 0, 1, 0, 0, 0, 0, 0] 1\n"
     ]
    },
    {
     "data": {
      "image/png": "[encoded data removed]",
      "text/plain": [
       "<Figure size 432x288 with 1 Axes>"
      ]
     },
     "metadata": {
      "needs_background": "light"
     },
     "output_type": "display_data"
    },
    {
     "name": "stdout",
     "output_type": "stream",
     "text": [
      "SANDOVAL ROSAS JORGE  -> [16, 14, 4, 5, 4, 0, 0, 0, 0, 0, 0, 0] 2\n"
     ]
    },
    {
     "data": {
      "image/png": "[encoded data removed]",
      "text/plain": [
       "<Figure size 432x288 with 1 Axes>"
      ]
     },
     "metadata": {
      "needs_background": "light"
     },
     "output_type": "display_data"
    },
    {
     "name": "stdout",
     "output_type": "stream",
     "text": [
      "SANTOS MORALES JESÚS ALBERTO -> [24, 11, 11, 0, 2, 0, 0, 0, 1, 0, 0, 0] 1\n"
     ]
    },
    {
     "data": {
      "image/png": "[encoded data removed]",
      "text/plain": [
       "<Figure size 432x288 with 1 Axes>"
      ]
     },
     "metadata": {
      "needs_background": "light"
     },
     "output_type": "display_data"
    },
    {
     "name": "stdout",
     "output_type": "stream",
     "text": [
      "VÁZQUEZ FLORES FRANCISCO JAVIER  -> [24, 13, 7, 4, 0, 0, 1, 0, 0, 0, 0, 0] 1\n"
     ]
    },
    {
     "data": {
      "image/png": "[encoded data removed]",
      "text/plain": [
       "<Figure size 432x288 with 1 Axes>"
      ]
     },
     "metadata": {
      "needs_background": "light"
     },
     "output_type": "display_data"
    },
    {
     "name": "stdout",
     "output_type": "stream",
     "text": [
      "ZUÑIGA GONZALEZ JOSE DE JESUS NICOLAS -> [18, 9, 1, 7, 3, 0, 1, 0, 1, 0, 0, 0] 1\n"
     ]
    },
    {
     "data": {
      "image/png": "[encoded data removed]",
      "text/plain": [
       "<Figure size 432x288 with 1 Axes>"
      ]
     },
     "metadata": {
      "needs_background": "light"
     },
     "output_type": "display_data"
    }
   ],
   "source": [
    "### Construimos la distribucion de probabilidad (para todos)\n",
    "\n",
    "for col in data.columns:\n",
    "\n",
    "    x_obs = [0,0,0,0,0,0,0,0,0,0,0,0]\n",
    "    x = [1, 2, 3, 4, 5, 6, 7, 8, 9, 10, 11,12] # en la distribucion geómetrica x empieza en 1 y no tiene límite\n",
    "    count = 0 \n",
    "    ## ponemos un contador a resetear cada vez que tengamos un caso de exito\n",
    "\n",
    "    if data[col][1]=='a':\n",
    "        a=1\n",
    "        for i in range(2,len(data[col])): # empezamos a contar desde el cuarto caso, el anterior sabemos que es varon\n",
    "            count += 1 ## Aumenta 1 para ver hasta que punto se alcanza otro varón\n",
    "    \n",
    "            if (data[col][i]=='a'): ## en el caso que encuentre un varón\n",
    "                x_obs[count-1] += 1 ## en este caso aumenta la frecuencia para la correspondente intento x \n",
    "                #(índice -1 por index python)\n",
    "                count=0\n",
    "                \n",
    "        print(col,'->',x_obs,a)  # contiene la frecuencia observada\n",
    "        plt.scatter(x,x_obs,color='red') # graficamos la distribucion\n",
    "        plt.show()\n",
    "                \n",
    "    if data[col][1]=='s':\n",
    "        a=2\n",
    "        for i in range(2,len(data[col])): # empezamos a contar desde el cuarto caso, el anterior sabemos que es varon\n",
    "            count += 1 ## Aumenta 1 para ver hasta que punto se alcanza otro varón\n",
    "    \n",
    "            if (data[col][i]=='s'): ## en el caso que encuentre un varón\n",
    "                x_obs[count-1] += 1 ## en este caso aumenta la frecuencia para la correspondente intento x \n",
    "                #(índice -1 por index python)\n",
    "        \n",
    "                count = 0 #reseteamos el contador\n",
    "                    \n",
    "        print(col,'->',x_obs,a)  # contiene la frecuencia observada\n",
    "        plt.scatter(x,x_obs,color='red') # graficamos la distribucion\n",
    "        plt.show()\n",
    "\n",
    "    "
   ]
  },
  {
   "cell_type": "markdown",
   "metadata": {},
   "source": [
    "### Distribución Geométrica\n",
    "\n",
    "La **distribución geométrica** es una distribución de probabilidad discreta que modela el número de ensayos necesarios **hasta obtener el primer éxito** en una secuencia de ensayos de Bernoulli independientes (experimentos con solo dos posibles resultados: éxito o fracaso).\n",
    "\n",
    "Se usa cuando queremos responder preguntas como:\n",
    "\n",
    "> “¿Cuántos intentos necesito antes de obtener el primer acierto?”\n",
    "\n",
    "Por ejemplo:\n",
    "- ¿Cuántos lanzamientos de una moneda hasta que salga cara?\n",
    "- ¿Cuántos intentos de llamada hasta que alguien conteste?\n",
    "\n",
    "Depende únicamente de un argumento:\n",
    "\n",
    "- $p$: probabilidad de éxito en cada ensayo (donde $0 < p \\leq 1$).\n",
    "\n",
    "#### Función de probabilidad (PMF)\n",
    "\n",
    "La función de masa de probabilidad es:\n",
    "\n",
    "\\begin{equation}\n",
    "P(X = k) = (1 - p)^{k - 1} \\cdot p, \\quad k = 1, 2, 3, \\dots\n",
    "\\end{equation}\n",
    "\n",
    "Esto indica que el primer éxito ocurre en el intento número $k$."
   ]
  },
  {
   "cell_type": "code",
   "execution_count": 54,
   "metadata": {},
   "outputs": [
    {
     "name": "stdout",
     "output_type": "stream",
     "text": [
      "[5.0000000e-01 2.5000000e-01 1.2500000e-01 6.2500000e-02 3.1250000e-02\n",
      " 1.5625000e-02 7.8125000e-03 3.9062500e-03 1.9531250e-03 9.7656250e-04\n",
      " 4.8828125e-04]\n"
     ]
    },
    {
     "data": {
      "text/plain": [
       "<matplotlib.collections.LineCollection at 0x7fedc2fcae80>"
      ]
     },
     "execution_count": 54,
     "metadata": {},
     "output_type": "execute_result"
    },
    {
     "data": {
      "image/png": "[encoded data removed]",
      "text/plain": [
       "<Figure size 576x432 with 1 Axes>"
      ]
     },
     "metadata": {
      "needs_background": "light"
     },
     "output_type": "display_data"
    }
   ],
   "source": [
    "#Primero generamos la distribución teórica, digamos hasta un valor x=6\n",
    "\n",
    "X = [1, 2, 3, 4, 5, 6, 7, 8, 9, 10, 11] # en la distribucion geómetrica x empieza en 1 y no tiene límite\n",
    "p = 0.5  # probabilidad teórica de tner un éxito (un varón en este caso)\n",
    "#n = 14 # numero de niños\n",
    "\n",
    "# Calculate geometric probability distribution\n",
    "#\n",
    "geom_pd = stats.geom.pmf(X, p) ## esta variable guarda las probabilidades por cada x\n",
    "# multiplicamos por los 26 niños para obtener una frecuencia de observacion\n",
    "print(geom_pd)\n",
    "# Graficar la distribución de probabilidad\n",
    "\n",
    "fig, ax = plt.subplots(1, 1, figsize=(8, 6))\n",
    "ax.plot(X, geom_pd, 'bo', ms=8, label='geom pmf')\n",
    "plt.ylabel(\"Probabilidad\", fontsize=\"18\")\n",
    "plt.xlabel(\"X - numero de intentos hasta obtener un exito\", fontsize=\"18\")\n",
    "plt.title(\"Distribución geométrica para p=0.5, hasta x=6\", fontsize=\"18\")\n",
    "ax.vlines(X, 0, geom_pd, colors='b', lw=5, alpha=0.5)\n"
   ]
  },
  {
   "cell_type": "code",
   "execution_count": 30,
   "metadata": {},
   "outputs": [
    {
     "data": {
      "text/html": [
       "<div>\n",
       "<style scoped>\n",
       "    .dataframe tbody tr th:only-of-type {\n",
       "        vertical-align: middle;\n",
       "    }\n",
       "\n",
       "    .dataframe tbody tr th {\n",
       "        vertical-align: top;\n",
       "    }\n",
       "\n",
       "    .dataframe thead th {\n",
       "        text-align: right;\n",
       "    }\n",
       "</style>\n",
       "<table border=\"1\" class=\"dataframe\">\n",
       "  <thead>\n",
       "    <tr style=\"text-align: right;\">\n",
       "      <th></th>\n",
       "      <th>Gender</th>\n",
       "      <th>Purchase</th>\n",
       "    </tr>\n",
       "  </thead>\n",
       "  <tbody>\n",
       "    <tr>\n",
       "      <th>0</th>\n",
       "      <td>Female</td>\n",
       "      <td>Yes</td>\n",
       "    </tr>\n",
       "    <tr>\n",
       "      <th>1</th>\n",
       "      <td>Female</td>\n",
       "      <td>Yes</td>\n",
       "    </tr>\n",
       "    <tr>\n",
       "      <th>2</th>\n",
       "      <td>Female</td>\n",
       "      <td>No</td>\n",
       "    </tr>\n",
       "    <tr>\n",
       "      <th>3</th>\n",
       "      <td>Male</td>\n",
       "      <td>No</td>\n",
       "    </tr>\n",
       "    <tr>\n",
       "      <th>4</th>\n",
       "      <td>Male</td>\n",
       "      <td>Yes</td>\n",
       "    </tr>\n",
       "    <tr>\n",
       "      <th>5</th>\n",
       "      <td>Female</td>\n",
       "      <td>Yes</td>\n",
       "    </tr>\n",
       "    <tr>\n",
       "      <th>6</th>\n",
       "      <td>Male</td>\n",
       "      <td>No</td>\n",
       "    </tr>\n",
       "    <tr>\n",
       "      <th>7</th>\n",
       "      <td>Female</td>\n",
       "      <td>Yes</td>\n",
       "    </tr>\n",
       "    <tr>\n",
       "      <th>8</th>\n",
       "      <td>Female</td>\n",
       "      <td>No</td>\n",
       "    </tr>\n",
       "    <tr>\n",
       "      <th>9</th>\n",
       "      <td>Female</td>\n",
       "      <td>Yes</td>\n",
       "    </tr>\n",
       "  </tbody>\n",
       "</table>\n",
       "</div>"
      ],
      "text/plain": [
       "   Gender Purchase\n",
       "0  Female      Yes\n",
       "1  Female      Yes\n",
       "2  Female       No\n",
       "3    Male       No\n",
       "4    Male      Yes\n",
       "5  Female      Yes\n",
       "6    Male       No\n",
       "7  Female      Yes\n",
       "8  Female       No\n",
       "9  Female      Yes"
      ]
     },
     "execution_count": 30,
     "metadata": {},
     "output_type": "execute_result"
    }
   ],
   "source": [
    "mainpath = \"/Users/vanotole/Documents/Doctorado/Estadistica/Datasets\"\n",
    "filename = \"Gender Purchase.csv\"\n",
    "fullpath = os.path.join(mainpath,filename)\n",
    "\n",
    "data = pd.read_csv(fullpath)\n",
    "data.head(10)"
   ]
  },
  {
   "cell_type": "code",
   "execution_count": 31,
   "metadata": {},
   "outputs": [
    {
     "data": {
      "text/plain": [
       "(511, 2)"
      ]
     },
     "execution_count": 31,
     "metadata": {},
     "output_type": "execute_result"
    }
   ],
   "source": [
    "data.shape"
   ]
  },
  {
   "cell_type": "code",
   "execution_count": 32,
   "metadata": {},
   "outputs": [
    {
     "data": {
      "text/html": [
       "<div>\n",
       "<style scoped>\n",
       "    .dataframe tbody tr th:only-of-type {\n",
       "        vertical-align: middle;\n",
       "    }\n",
       "\n",
       "    .dataframe tbody tr th {\n",
       "        vertical-align: top;\n",
       "    }\n",
       "\n",
       "    .dataframe thead th {\n",
       "        text-align: right;\n",
       "    }\n",
       "</style>\n",
       "<table border=\"1\" class=\"dataframe\">\n",
       "  <thead>\n",
       "    <tr style=\"text-align: right;\">\n",
       "      <th>Purchase</th>\n",
       "      <th>No</th>\n",
       "      <th>Yes</th>\n",
       "    </tr>\n",
       "    <tr>\n",
       "      <th>Gender</th>\n",
       "      <th></th>\n",
       "      <th></th>\n",
       "    </tr>\n",
       "  </thead>\n",
       "  <tbody>\n",
       "    <tr>\n",
       "      <th>Female</th>\n",
       "      <td>106</td>\n",
       "      <td>159</td>\n",
       "    </tr>\n",
       "    <tr>\n",
       "      <th>Male</th>\n",
       "      <td>125</td>\n",
       "      <td>121</td>\n",
       "    </tr>\n",
       "  </tbody>\n",
       "</table>\n",
       "</div>"
      ],
      "text/plain": [
       "Purchase   No  Yes\n",
       "Gender            \n",
       "Female    106  159\n",
       "Male      125  121"
      ]
     },
     "execution_count": 32,
     "metadata": {},
     "output_type": "execute_result"
    }
   ],
   "source": [
    "### Tabla de contigencia \n",
    "## Observar las frecuencias por dos o mas variables categóricas\n",
    "\n",
    "tabla_contingencia = pd.crosstab(data[\"Gender\"],data[\"Purchase\"])\n",
    "tabla_contingencia"
   ]
  },
  {
   "cell_type": "code",
   "execution_count": 33,
   "metadata": {},
   "outputs": [
    {
     "data": {
      "text/plain": [
       "Gender\n",
       "Female    265\n",
       "Male      246\n",
       "dtype: int64"
      ]
     },
     "execution_count": 33,
     "metadata": {},
     "output_type": "execute_result"
    }
   ],
   "source": [
    "tabla_contingencia.sum(axis = 1)"
   ]
  },
  {
   "cell_type": "code",
   "execution_count": 34,
   "metadata": {},
   "outputs": [
    {
     "data": {
      "text/plain": [
       "Purchase\n",
       "No     231\n",
       "Yes    280\n",
       "dtype: int64"
      ]
     },
     "execution_count": 34,
     "metadata": {},
     "output_type": "execute_result"
    }
   ],
   "source": [
    "tabla_contingencia.sum(axis = 0)"
   ]
  },
  {
   "cell_type": "markdown",
   "metadata": {},
   "source": [
    "Probabilidad de haber comprado el producto dado que es mujer. A = compra, B = género\n",
    "\n",
    "$P(A=compra|B=mujer) = \\frac{159}{106+159} = \\frac{159}{265}$\n",
    "\n",
    "Probabilidad de que el cliente sea mujer dado que si me compró.\n",
    "\n",
    "$P(B=mujer| A = compra)\\frac{159}{121+159} = \\frac{159}{280}$"
   ]
  },
  {
   "cell_type": "code",
   "execution_count": 35,
   "metadata": {},
   "outputs": [
    {
     "data": {
      "text/plain": [
       "Gender\n",
       "Female    265\n",
       "Male      246\n",
       "dtype: int64"
      ]
     },
     "execution_count": 35,
     "metadata": {},
     "output_type": "execute_result"
    }
   ],
   "source": [
    "# Queremos sumar por filas para hacer el total por género\n",
    "\n",
    "tabla_contingencia.sum(axis = 1)\n",
    "\n",
    "# vemos el número de hombres y de mujeres"
   ]
  },
  {
   "cell_type": "code",
   "execution_count": 36,
   "metadata": {},
   "outputs": [
    {
     "data": {
      "text/plain": [
       "Purchase\n",
       "No     231\n",
       "Yes    280\n",
       "dtype: int64"
      ]
     },
     "execution_count": 36,
     "metadata": {},
     "output_type": "execute_result"
    }
   ],
   "source": [
    "tabla_contingencia.sum(axis = 0)\n",
    "\n",
    "# Aqui vemos los SI y los NO"
   ]
  },
  {
   "cell_type": "markdown",
   "metadata": {},
   "source": [
    "Calculamos la proporcion de hombres que compraron y que no compraron, así como en el caso de mujeres."
   ]
  },
  {
   "cell_type": "code",
   "execution_count": 37,
   "metadata": {},
   "outputs": [
    {
     "data": {
      "text/html": [
       "<div>\n",
       "<style scoped>\n",
       "    .dataframe tbody tr th:only-of-type {\n",
       "        vertical-align: middle;\n",
       "    }\n",
       "\n",
       "    .dataframe tbody tr th {\n",
       "        vertical-align: top;\n",
       "    }\n",
       "\n",
       "    .dataframe thead th {\n",
       "        text-align: right;\n",
       "    }\n",
       "</style>\n",
       "<table border=\"1\" class=\"dataframe\">\n",
       "  <thead>\n",
       "    <tr style=\"text-align: right;\">\n",
       "      <th>Purchase</th>\n",
       "      <th>No</th>\n",
       "      <th>Yes</th>\n",
       "    </tr>\n",
       "    <tr>\n",
       "      <th>Gender</th>\n",
       "      <th></th>\n",
       "      <th></th>\n",
       "    </tr>\n",
       "  </thead>\n",
       "  <tbody>\n",
       "    <tr>\n",
       "      <th>Female</th>\n",
       "      <td>0.40000</td>\n",
       "      <td>0.60000</td>\n",
       "    </tr>\n",
       "    <tr>\n",
       "      <th>Male</th>\n",
       "      <td>0.50813</td>\n",
       "      <td>0.49187</td>\n",
       "    </tr>\n",
       "  </tbody>\n",
       "</table>\n",
       "</div>"
      ],
      "text/plain": [
       "Purchase       No      Yes\n",
       "Gender                    \n",
       "Female    0.40000  0.60000\n",
       "Male      0.50813  0.49187"
      ]
     },
     "execution_count": 37,
     "metadata": {},
     "output_type": "execute_result"
    }
   ],
   "source": [
    "tabla_contingencia.astype(\"float\").div(tabla_contingencia.sum(axis=1), axis = 0)\n",
    "##division\n",
    "## cambiar de enteros a float para no tener problemas\n",
    "## se hacen dos divisiones por su total"
   ]
  }
 ],
 "metadata": {
  "kernelspec": {
   "display_name": "Python 3 (ipykernel)",
   "language": "python",
   "name": "python3"
  },
  "language_info": {
   "codemirror_mode": {
    "name": "ipython",
    "version": 3
   },
   "file_extension": ".py",
   "mimetype": "text/x-python",
   "name": "python",
   "nbconvert_exporter": "python",
   "pygments_lexer": "ipython3",
   "version": "3.10.16"
  }
 },
 "nbformat": 4,
 "nbformat_minor": 4
}
