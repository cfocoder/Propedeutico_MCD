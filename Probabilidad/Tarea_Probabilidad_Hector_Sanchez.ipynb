{
 "cells": [
  {
   "cell_type": "markdown",
   "id": "55b12953",
   "metadata": {},
   "source": [
    "# Tarea Probabilidad - Maestría en Ciencia de Datos, CUCEA, UdG\n",
    "## Héctor Gabriel Sánchez Pérez\n",
    "### 11 de Junio de 2025\n",
    "\n",
    "Escribir el procedimiento completo (ecuaciones y variables utilizadas) para resolver los siguientes problemas:\n"
   ]
  },
  {
   "cell_type": "markdown",
   "id": "f2aee3d0",
   "metadata": {},
   "source": [
    "1. (20 Puntos) Utilizar los distintos métodos de conteo para contestar lo siguiente:"
   ]
  },
  {
   "cell_type": "markdown",
   "id": "816cdfc0",
   "metadata": {},
   "source": [
    "* Si tienes 2 pares de zapatos, 3 pantalones, y 5 camisas, ¿ cuántos outfits diferentes puedes hacer?\n"
   ]
  },
  {
   "cell_type": "code",
   "execution_count": 15,
   "id": "0da56dab",
   "metadata": {},
   "outputs": [],
   "source": [
    "# Aqui multiplicamos 2 x 3 x 5 = 30"
   ]
  },
  {
   "cell_type": "markdown",
   "id": "1ea8de88",
   "metadata": {},
   "source": [
    "* ¿Un examen de opción múltiple tiene 20 preguntas. Cada pregunta tiene 3 opciones de respuestas y sólo se escoge 1 de ellas por pregunta. ¿Cuántas maneras diferentes\n",
    "de contestar el examen existen?\n"
   ]
  },
  {
   "cell_type": "code",
   "execution_count": 16,
   "id": "ba3bfcb0",
   "metadata": {},
   "outputs": [],
   "source": [
    "# Dado que cada pregunta es independiente y tiene 3 opciones, \n",
    "# debemos multiplicar las opciones para cada pregunta \n",
    "# 3 x 3 x 3 x 3 x 3 x 3 x 3 x 3 x 3 x 3 x 3 x 3 x 3 x 3 x 3 x 3 x 3 x 3 x 3 x 3 ( 20 veces), \n",
    "# o lo que es lo mismo 3^20 = 3,486,784,401 "
   ]
  },
  {
   "cell_type": "markdown",
   "id": "efad7859",
   "metadata": {},
   "source": [
    "* ¿Cuántas maneras hay de arreglar 4 cuadros en orden en una pared si tienes 7 cuadros (diferentes entre sí) para escoger?\n"
   ]
  },
  {
   "cell_type": "code",
   "execution_count": 17,
   "id": "b8a0c397",
   "metadata": {},
   "outputs": [],
   "source": [
    "# Este es un problema de \"espacios\", es decir, 4 espacios para 7 cuadros. La respuesta es 7 * 6 * 5 * 4 = 840"
   ]
  },
  {
   "cell_type": "markdown",
   "id": "defa574f",
   "metadata": {},
   "source": [
    "* ¿En cuántas posibles formas puedes reordenar las letras (permutacion de objetos idénticos) de la palabra INTERNET ?\n"
   ]
  },
  {
   "cell_type": "code",
   "execution_count": 18,
   "id": "f0ababd0",
   "metadata": {},
   "outputs": [],
   "source": [
    "# La palabra INTERNET tiene 8 caracteres, por lo que la respuesta es 8! factorial dividido entre 2! factorial \n",
    "# para cada una de las letras N, T y E ya que se repiten 2 veces, entonces tenemos 8! / 2! 2! 2! = 5040 maneras"
   ]
  },
  {
   "cell_type": "markdown",
   "id": "af203db0",
   "metadata": {},
   "source": [
    "* Un club tiene 20 miembros. ¿Qué tantas maneras hay para escoger un comité de 4 personas?\n"
   ]
  },
  {
   "cell_type": "code",
   "execution_count": null,
   "id": "bdf8bba1",
   "metadata": {},
   "outputs": [],
   "source": [
    "# El orden no importa, asi que es un problema de combinaciones, sin repeticion. \n",
    "# La formula de combinaciones sin repetición es C = n! / k! * (n-k)!\n",
    "\n",
    "# - C = 20! / 4! * (20-4)!\n",
    "# -  C = 20! / 4! * 16!\n",
    "# - C = 20 x 19 x 18 x 17 x 16! / 4 x 3 x 2 x 1 x 16!\n",
    "# - C = 20 x 19 x 18 x 17 / 4 x 3 x 2 x 1 \n",
    "# - C = 20 x 19 x 18 x 17 / 24\n",
    "# - C = 116280 / 24\n",
    "# - C = 4845 maneras"
   ]
  },
  {
   "cell_type": "markdown",
   "id": "835ce20b",
   "metadata": {},
   "source": [
    "* Entras a la tienda de la dulces de la rosa (Av Aztecas 3200). Tienes suficiente dinero para escoger 6 piezas de dulce y tienes tres opciones de dulces: Mazapanes, Duvalines\n",
    "y Pulparindos. ¿Cuántas combinaciones puedes hacer al elegir 6 piezas? (puedes elegir el mismo dulce varias veces).\n"
   ]
  },
  {
   "cell_type": "code",
   "execution_count": null,
   "id": "53f97b4e",
   "metadata": {},
   "outputs": [],
   "source": [
    "# Este es un problema de combinaciones con repetición, en donde el órden no importa, \n",
    "# la fórmula es: C = (n + k - 1)! / k! * (n-1)!\n",
    "\n",
    "# n es el numero de tipos de dulces, es decir 3 y k es el número de dulces a elegir en total, es decir 6 \n",
    "\n",
    "# * C = (3 + 6 - 1)! / 6! * (3 - 1)!\n",
    "# * C = 8! / 6! * 2!\n",
    "# * C = 40320 / (720 * 2)\n",
    "# * C = 40320 / 1440\n",
    "# * C = 28\n"
   ]
  },
  {
   "cell_type": "markdown",
   "id": "41f4f64f",
   "metadata": {},
   "source": [
    "---"
   ]
  },
  {
   "cell_type": "markdown",
   "id": "46b35f96",
   "metadata": {},
   "source": [
    "2. (20 puntos). Al realizar un análisis de regresión lineal es necesario frecuentemente hacer el ajuste de todos los modelos posibles, considerando todos los modelos de una variable, todos los de dos, todos los de tres, ..., etc. Considerando un conjunto de 5 variables predictivas entonces se deberáan revisar modelos de 5, de 4, de 3, de 2 y de 1 variable. Recordar que aquí el orden de las variables predictivas no es importante, i.e., el modelo que implica la variable x1 y x2 es el mismo que el modelo que implica x2 y x1."
   ]
  },
  {
   "cell_type": "markdown",
   "id": "886abbaa",
   "metadata": {},
   "source": [
    "* ¿Cuántos modelos de regresión de 3 variables se tienen que revisar?"
   ]
  },
  {
   "cell_type": "code",
   "execution_count": 21,
   "id": "f859c403",
   "metadata": {},
   "outputs": [],
   "source": [
    "\n",
    "# Esto es equivalenete a preguntar de cuantas variables podemos elegir 3 variables de un conjunto de 5 sin importar el órden.\n",
    "\n",
    "# Entonces usamos la fórmula de combinaciones:\n",
    "\n",
    "# * C = n! / k! * (n-k)!\n",
    "# * C = 5! / 3! * (5-3)!\n",
    "# * C = (5 * 4 * 3 * 2 * 1) / (3 * 2 * 1) * (2 * 1)\n",
    "# * C = (5 * 4) / ( 2 * 1)\n",
    "# * C = 20 / 2\n",
    "# * C = 10"
   ]
  },
  {
   "cell_type": "markdown",
   "id": "68e299d1",
   "metadata": {},
   "source": [
    "* ¿Cuántos modelos de regresión se tienen que revisar en total considerando que se tiene 5 variables de entrada?\n"
   ]
  },
  {
   "cell_type": "code",
   "execution_count": 22,
   "id": "003b2277",
   "metadata": {},
   "outputs": [],
   "source": [
    "# Necesitamos calcular el número de modelos para 1, 2, 3, 4 y 5 variables y sumarlos:\n",
    "\n",
    "# * Modelos de 1 variable: C(5, 1) = 5! / (1! * 4!) = 5\n",
    "# * Modelos de 2 variables: C(5, 2) = 5! / (2! * 3!) = (5 * 4) / 2 = 10\n",
    "# * Modelos de 3 variables: C(5, 3) = 10 (calculado arriba)\n",
    "# * Modelos de 4 variables: C(5, 4) = 5! / (4! * 1!) = 5\n",
    "# * Modelos de 5 variables: C(5, 5) = 5! / (5! * 0!) = 1 \n",
    "\n",
    "# Total de modelos = 5 + 10 + 10 + 5 + 1 = 31"
   ]
  },
  {
   "cell_type": "markdown",
   "id": "6bdbfa84",
   "metadata": {},
   "source": [
    "* Del total de combinaciones calculado anteriormente, ¿cuál es la probabilidad de elegir un modelo que solo contenga 3 variables predictivas?\n"
   ]
  },
  {
   "cell_type": "code",
   "execution_count": 23,
   "id": "a33309df",
   "metadata": {},
   "outputs": [],
   "source": [
    "# * Probabilidad = (Número de modelos con 3 variables) / (Total de modelos)\n",
    "# * Probabilidad = 10 / 31\n",
    "# * Probabilidad = 0.3226"
   ]
  },
  {
   "cell_type": "markdown",
   "id": "7d7ddef4",
   "metadata": {},
   "source": [
    "* De igual manera, ¿cuál es la probabilidad de elegir un modelo de menos de 3 variables?\n",
    "\n"
   ]
  },
  {
   "cell_type": "code",
   "execution_count": 24,
   "id": "c27cc777",
   "metadata": {},
   "outputs": [],
   "source": [
    "# \"Menos de 3 variables\" significa modelos con 1 variable o modelos con 2 variables.\n",
    "\n",
    "# * Probabilidad = (Número de modelos con 1 variables + Número de modelos con 2 variables ) / (Total de modelos)\n",
    "# * Probabilidad = (5 + 10) / 31\n",
    "# * Probabilidad = 0.4839"
   ]
  },
  {
   "cell_type": "markdown",
   "id": "7e52df58",
   "metadata": {},
   "source": [
    "---"
   ]
  },
  {
   "cell_type": "markdown",
   "id": "fd0a3dca",
   "metadata": {},
   "source": [
    "3. (20 puntos) Un desarrollador lanza una nueva aplicación y espera que los usuarios la recomienden. Supón que cada usuario recomienda la app con una probabilidad de 50 % y que lo hacen de forma independiente entre sí. Si 6 personas usan la app, ¿cuál es la probabilidad de que al menos una la recomiende? Sugerencia: utiliza la regla del complemento"
   ]
  },
  {
   "cell_type": "code",
   "execution_count": null,
   "id": "aefec780",
   "metadata": {},
   "outputs": [],
   "source": [
    "# La probabilidad de que un usario recomiende la app de manera independiente es 1/2  o 50%, \n",
    "# que es la misma probabilidad de que no recomiende la app.  \n",
    "# \n",
    "# Como las probabilidades de que no recomiende la app son independientes, \n",
    "# multiplicamos las 6 probabilidades independientes: 0.5^6 = 0.015625.\n",
    "\n",
    "# De acuerdo a la fórmula del complemento \n",
    "\n",
    "# La probabilidad de al menos una recomendación =  1 - Probabilidad de ninguna recomendación = 1 - 0.015625 = 0.9844"
   ]
  },
  {
   "cell_type": "markdown",
   "id": "305b5348",
   "metadata": {},
   "source": [
    "---"
   ]
  },
  {
   "cell_type": "markdown",
   "id": "62e8c095",
   "metadata": {},
   "source": [
    "4. (20 puntos) Un jugador lanza un dado justo de seis caras cinco veces. ¿Cuál es la probabilidad de que, entre los cinco lanzamientos, aparezca un 6 exactamente en cuatro ocasiones (sin importar el orden en que ocurra)? Sugerencia: utiliza combinaciones para contar las formas posibles en que pueden ocurrir exactamente cuatro éxitos en cinco\n",
    "intentos.\n"
   ]
  },
  {
   "cell_type": "code",
   "execution_count": null,
   "id": "27020b4b",
   "metadata": {},
   "outputs": [],
   "source": [
    "# * Número de intentos: n = 5\n",
    "# * Número de éxitos = k = 4\n",
    "# * La probabilidad de éxito de un solo intento independiente: p = 1/6\n",
    "# * Probabilidad de fracaso: q = 1 - p = 5/6\n",
    "\n",
    "# 1) Primero calculamos el número de combinaciones usando la fórmula:\n",
    "\n",
    "# C = n! / k! * (n-k)!\n",
    "# C = 5! / 4! * (5-4)!\n",
    "# C = 5 * 4 * 3 * 2 * 1 / 4 * 3 * 2 * 1 * (1)\n",
    "# C = 5\n",
    "\n",
    "# 2) Ahora con el número de combinaciones, procedemos a usar la fórmula binomal para calcular la probabilidad:\n",
    "\n",
    "# P = C * p^k * q^(n-k)\n",
    "# P = 5 * (1/6)^4 x (5/6)^(5-4)\n",
    "# P = 5 * 1/1296 * 5/6\n",
    "# P = 25 / 7776\n",
    "# P = 0.0032\n"
   ]
  },
  {
   "cell_type": "markdown",
   "id": "5aa3251e",
   "metadata": {},
   "source": [
    "---"
   ]
  },
  {
   "cell_type": "markdown",
   "id": "171fea76",
   "metadata": {},
   "source": [
    "5. (20 puntos) El archivo Gender Purchase.csv contiene información sobre los clientes de un producto, incluyendo dos variables: el g´enero del cliente (masculino o femenino) y si compró o no el producto. \n",
    "\n",
    "Sea A el evento “el cliente es de cierto género” (puedes elegir masculino o femenino como evento base) y B el evento “el cliente compró el producto”."
   ]
  },
  {
   "cell_type": "code",
   "execution_count": 28,
   "id": "e7f44506",
   "metadata": {},
   "outputs": [
    {
     "data": {
      "text/html": [
       "<div>\n",
       "<style scoped>\n",
       "    .dataframe tbody tr th:only-of-type {\n",
       "        vertical-align: middle;\n",
       "    }\n",
       "\n",
       "    .dataframe tbody tr th {\n",
       "        vertical-align: top;\n",
       "    }\n",
       "\n",
       "    .dataframe thead th {\n",
       "        text-align: right;\n",
       "    }\n",
       "</style>\n",
       "<table border=\"1\" class=\"dataframe\">\n",
       "  <thead>\n",
       "    <tr style=\"text-align: right;\">\n",
       "      <th></th>\n",
       "      <th>Gender</th>\n",
       "      <th>Purchase</th>\n",
       "    </tr>\n",
       "  </thead>\n",
       "  <tbody>\n",
       "    <tr>\n",
       "      <th>count</th>\n",
       "      <td>511</td>\n",
       "      <td>511</td>\n",
       "    </tr>\n",
       "    <tr>\n",
       "      <th>unique</th>\n",
       "      <td>2</td>\n",
       "      <td>2</td>\n",
       "    </tr>\n",
       "    <tr>\n",
       "      <th>top</th>\n",
       "      <td>Female</td>\n",
       "      <td>Yes</td>\n",
       "    </tr>\n",
       "    <tr>\n",
       "      <th>freq</th>\n",
       "      <td>265</td>\n",
       "      <td>280</td>\n",
       "    </tr>\n",
       "  </tbody>\n",
       "</table>\n",
       "</div>"
      ],
      "text/plain": [
       "        Gender Purchase\n",
       "count      511      511\n",
       "unique       2        2\n",
       "top     Female      Yes\n",
       "freq       265      280"
      ]
     },
     "execution_count": 28,
     "metadata": {},
     "output_type": "execute_result"
    }
   ],
   "source": [
    "import pandas as pd \n",
    "import numpy as np \n",
    "\n",
    "gender_purchase = pd.read_csv('../Datasets/Gender Purchase.csv')\n",
    "gender_purchase.describe()"
   ]
  },
  {
   "cell_type": "code",
   "execution_count": 27,
   "id": "7cbab4ca",
   "metadata": {},
   "outputs": [
    {
     "data": {
      "text/html": [
       "<div>\n",
       "<style scoped>\n",
       "    .dataframe tbody tr th:only-of-type {\n",
       "        vertical-align: middle;\n",
       "    }\n",
       "\n",
       "    .dataframe tbody tr th {\n",
       "        vertical-align: top;\n",
       "    }\n",
       "\n",
       "    .dataframe thead th {\n",
       "        text-align: right;\n",
       "    }\n",
       "</style>\n",
       "<table border=\"1\" class=\"dataframe\">\n",
       "  <thead>\n",
       "    <tr style=\"text-align: right;\">\n",
       "      <th></th>\n",
       "      <th>Gender</th>\n",
       "      <th>Purchase</th>\n",
       "    </tr>\n",
       "  </thead>\n",
       "  <tbody>\n",
       "    <tr>\n",
       "      <th>0</th>\n",
       "      <td>Female</td>\n",
       "      <td>Yes</td>\n",
       "    </tr>\n",
       "    <tr>\n",
       "      <th>1</th>\n",
       "      <td>Female</td>\n",
       "      <td>Yes</td>\n",
       "    </tr>\n",
       "    <tr>\n",
       "      <th>2</th>\n",
       "      <td>Female</td>\n",
       "      <td>No</td>\n",
       "    </tr>\n",
       "    <tr>\n",
       "      <th>3</th>\n",
       "      <td>Male</td>\n",
       "      <td>No</td>\n",
       "    </tr>\n",
       "    <tr>\n",
       "      <th>4</th>\n",
       "      <td>Male</td>\n",
       "      <td>Yes</td>\n",
       "    </tr>\n",
       "  </tbody>\n",
       "</table>\n",
       "</div>"
      ],
      "text/plain": [
       "   Gender Purchase\n",
       "0  Female      Yes\n",
       "1  Female      Yes\n",
       "2  Female       No\n",
       "3    Male       No\n",
       "4    Male      Yes"
      ]
     },
     "execution_count": 27,
     "metadata": {},
     "output_type": "execute_result"
    }
   ],
   "source": [
    "gender_purchase.head()"
   ]
  },
  {
   "cell_type": "markdown",
   "id": "75919672",
   "metadata": {},
   "source": [
    "Calcula las siguientes probabilidades con base en los datos:"
   ]
  },
  {
   "cell_type": "code",
   "execution_count": 41,
   "id": "630557c4",
   "metadata": {},
   "outputs": [
    {
     "name": "stdout",
     "output_type": "stream",
     "text": [
      "P(A) = P(Gender='Female') = 265/511 = 0.5186\n",
      "P(A') = P(Gender='Male') = 246/511 = 0.4814\n"
     ]
    }
   ],
   "source": [
    "# P(A) y P(A¯)\n",
    "\n",
    "# P(A) = Probabilidad de que Gender sea 'Female'\n",
    "# P(A') = Probabilidad de que Gender sea 'Male'\n",
    "\n",
    "total_observaciones = len(gender_purchase)\n",
    "\n",
    "count_female = gender_purchase[gender_purchase['Gender']== 'Female'].shape[0]\n",
    "count_male = gender_purchase[gender_purchase['Gender']== 'Male'].shape[0]\n",
    "\n",
    "P_A = count_female / total_observaciones\n",
    "P_A_prime = count_male / total_observaciones\n",
    "\n",
    "print(f\"P(A) = P(Gender='Female') = {count_female}/{total_observaciones} = {P_A:.4f}\")\n",
    "print(f\"P(A') = P(Gender='Male') = {count_male}/{total_observaciones} = {P_A_prime:.4f}\")"
   ]
  },
  {
   "cell_type": "code",
   "execution_count": 42,
   "id": "3216c834",
   "metadata": {},
   "outputs": [
    {
     "name": "stdout",
     "output_type": "stream",
     "text": [
      "P(B) = P(Purchase='Yes') = 280/511 = 0.5479\n",
      "P(B') = P(Purchase='No') = 231/511 = 0.4521\n"
     ]
    }
   ],
   "source": [
    "# P(B) y P(B¯)\n",
    "\n",
    "# P(B) = Probabilidad de que Purchase sea 'Yes'\n",
    "# P(B') = Probabilidad de que Purchase sea 'No'\n",
    "\n",
    "count_purchase_yes = gender_purchase[gender_purchase['Purchase'] == 'Yes'].shape[0]\n",
    "count_purchase_no = gender_purchase[gender_purchase['Purchase']== 'No'].shape[0]\n",
    "\n",
    "P_B = count_purchase_yes / total_observaciones\n",
    "P_B_prime = count_purchase_no / total_observaciones\n",
    "print(f\"P(B) = P(Purchase='Yes') = {count_purchase_yes}/{total_observaciones} = {P_B:.4f}\")\n",
    "print(f\"P(B') = P(Purchase='No') = {count_purchase_no}/{total_observaciones} = {P_B_prime:.4f}\")"
   ]
  },
  {
   "cell_type": "code",
   "execution_count": 47,
   "id": "d343721c",
   "metadata": {},
   "outputs": [
    {
     "name": "stdout",
     "output_type": "stream",
     "text": [
      "\n",
      "--- Tabla de Contingencia (Frecuencias) ---\n",
      "Purchase   No  Yes\n",
      "Gender            \n",
      "Female    106  159\n",
      "Male      125  121\n"
     ]
    }
   ],
   "source": [
    "# Tabla de contingencia para las probabilidades conjuntas y condicionales\n",
    "contingency_table = pd.crosstab(gender_purchase['Gender'], gender_purchase['Purchase'])\n",
    "print(\"\\n--- Tabla de Contingencia (Frecuencias) ---\")\n",
    "print(contingency_table)\n",
    "\n",
    "# Asignar los valores de la tabla de contingencia a variables\n",
    "count_A_and_B = contingency_table.loc['Female', 'Yes']\n",
    "count_A_and_B_prime = contingency_table.loc['Female', 'No']\n",
    "count_A_prime_and_B = contingency_table.loc['Male', 'Yes']\n",
    "count_A_prime_and_B_prime = contingency_table.loc['Male', 'No']\n",
    "\n",
    "# Probabilidades conjuntas P(A ∩ B), P(A ∩ B'), P(A' ∩ B), P(A' ∩ B')\n",
    "P_A_and_B = count_A_and_B / total_observaciones\n",
    "P_A_and_B_prime = count_A_and_B_prime / total_observaciones\n",
    "P_A_prime_and_B = count_A_prime_and_B / total_observaciones\n",
    "P_A_prime_and_B_prime = count_A_prime_and_B_prime / total_observaciones"
   ]
  },
  {
   "cell_type": "code",
   "execution_count": 49,
   "id": "6e43fa21",
   "metadata": {},
   "outputs": [
    {
     "name": "stdout",
     "output_type": "stream",
     "text": [
      "P(B|A) = P(Yes|Female) = 0.6000\n",
      "P(B'|A) = P(No|Female) = 0.4000\n"
     ]
    }
   ],
   "source": [
    "# P(B|A) y P(B¯|A)\n",
    "# P(B|A) = P(Purchase='Yes' | Gender='Female') = P(A ∩ B) / P(A)\n",
    "# P(B'|A) = P(Purchase='No' | Gender='Female') = P(A ∩ B') / P(A)\n",
    "\n",
    "P_B_given_A = P_A_and_B / P_A\n",
    "P_B_prime_given_A = P_A_and_B_prime / P_A\n",
    "\n",
    "print(f\"P(B|A) = P(Yes|Female) = {P_B_given_A:.4f}\")\n",
    "print(f\"P(B'|A) = P(No|Female) = {P_B_prime_given_A:.4f}\")\n"
   ]
  },
  {
   "cell_type": "code",
   "execution_count": 51,
   "id": "193dc50e",
   "metadata": {},
   "outputs": [
    {
     "name": "stdout",
     "output_type": "stream",
     "text": [
      "P(A|B) = P(Female|Yes) = 0.5679\n",
      "P(A'|B) = P(Male|Yes) = 0.4321\n"
     ]
    }
   ],
   "source": [
    "# P(A|B) y P(A¯|B)\n",
    "# P(A|B) = P(Gender='Female' | Purchase='Yes') = P(A ∩ B) / P(B)\n",
    "# P(A'|B) = P(Gender='Male' | Purchase='Yes') = P(A' ∩ B) / P(B)\n",
    "\n",
    "P_A_given_B = P_A_and_B / P_B\n",
    "P_A_prime_given_B = P_A_prime_and_B / P_B\n",
    "\n",
    "print(f\"P(A|B) = P(Female|Yes) = {P_A_given_B:.4f}\")\n",
    "print(f\"P(A'|B) = P(Male|Yes) = {P_A_prime_given_B:.4f}\")\n"
   ]
  },
  {
   "cell_type": "code",
   "execution_count": 56,
   "id": "c5e07c62",
   "metadata": {},
   "outputs": [
    {
     "name": "stdout",
     "output_type": "stream",
     "text": [
      "\n",
      "--- Probabilidades Conjuntas (Intersecciones)---\n",
      "P(A ∩ B) = P(Female ∩ Yes) = 0.3112\n",
      "P(A ∩ B') = P(Female ∩ No) = 0.2074\n",
      "P(A' ∩ B) = P(Male ∩ Yes) = 0.2368\n",
      "P(A' ∩ B') = P(Male ∩ No) = 0.2446\n"
     ]
    }
   ],
   "source": [
    "# Las intersecciones P(A ∩ B), P(A ∩ B¯), P(A¯ ∩ B), P(A¯ ∩ B¯)\n",
    "\n",
    "print(\"\\n--- Probabilidades Conjuntas (Intersecciones)---\")\n",
    "print(f\"P(A ∩ B) = P(Female ∩ Yes) = {P_A_and_B:.4f}\") \n",
    "print(f\"P(A ∩ B') = P(Female ∩ No) = {P_A_and_B_prime:.4f}\") \n",
    "print(f\"P(A' ∩ B) = P(Male ∩ Yes) = {P_A_prime_and_B:.4f}\") \n",
    "print(f\"P(A' ∩ B') = P(Male ∩ No) = {P_A_prime_and_B_prime:.4f}\") \n",
    "\n"
   ]
  },
  {
   "cell_type": "code",
   "execution_count": 57,
   "id": "1894d2c2",
   "metadata": {},
   "outputs": [
    {
     "name": "stdout",
     "output_type": "stream",
     "text": [
      "\n",
      "--- Verificación de la Suma Total de Probabilidades ---\n",
      "Suma de probabilidades conjuntas: 1.0000\n"
     ]
    }
   ],
   "source": [
    "## Verifica que la suma total de probabilidades de todas las combinaciones sea 1\n",
    "## P(A ∩ B) + P(A ∩ B¯) + P(A¯ ∩ B) + P(A¯ ∩ B¯) = 1\n",
    "\n",
    "verification_sum = (P_A_and_B + P_A_and_B_prime + P_A_prime_and_B + P_A_prime_and_B_prime)\n",
    "print(f\"\\n--- Verificación de la Suma Total de Probabilidades ---\")\n",
    "print(f\"Suma de probabilidades conjuntas: {verification_sum:.4f}\")\n"
   ]
  },
  {
   "cell_type": "markdown",
   "id": "4843e934",
   "metadata": {},
   "source": [
    "Diagrama de árbol"
   ]
  },
  {
   "attachments": {
    "image.png": {
     "image/png": "[encoded data removed]"
    }
   },
   "cell_type": "markdown",
   "id": "5eab9e57",
   "metadata": {},
   "source": [
    "![image.png](attachment:image.png)"
   ]
  },
  {
   "cell_type": "markdown",
   "id": "c4fc486b",
   "metadata": {},
   "source": [
    "---"
   ]
  },
  {
   "cell_type": "markdown",
   "id": "1e043cb1",
   "metadata": {},
   "source": []
  }
 ],
 "metadata": {
  "kernelspec": {
   "display_name": "Propedeutico_MCD (3.12.3)",
   "language": "python",
   "name": "python3"
  },
  "language_info": {
   "codemirror_mode": {
    "name": "ipython",
    "version": 3
   },
   "file_extension": ".py",
   "mimetype": "text/x-python",
   "name": "python",
   "nbconvert_exporter": "python",
   "pygments_lexer": "ipython3",
   "version": "3.12.3"
  }
 },
 "nbformat": 4,
 "nbformat_minor": 5
}
